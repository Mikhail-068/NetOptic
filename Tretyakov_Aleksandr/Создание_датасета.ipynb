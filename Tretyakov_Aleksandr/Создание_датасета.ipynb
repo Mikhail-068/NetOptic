{
  "nbformat": 4,
  "nbformat_minor": 0,
  "metadata": {
    "colab": {
      "provenance": [],
      "authorship_tag": "ABX9TyOheaVio19i7ypf4fohS8LF",
      "include_colab_link": true
    },
    "kernelspec": {
      "name": "python3",
      "display_name": "Python 3"
    },
    "language_info": {
      "name": "python"
    }
  },
  "cells": [
    {
      "cell_type": "markdown",
      "metadata": {
        "id": "view-in-github",
        "colab_type": "text"
      },
      "source": [
        "<a href=\"https://colab.research.google.com/github/Mikhail-068/NetOptic/blob/master/Tretyakov_Aleksandr/%D0%A1%D0%BE%D0%B7%D0%B4%D0%B0%D0%BD%D0%B8%D0%B5_%D0%B4%D0%B0%D1%82%D0%B0%D1%81%D0%B5%D1%82%D0%B0.ipynb\" target=\"_parent\"><img src=\"https://colab.research.google.com/assets/colab-badge.svg\" alt=\"Open In Colab\"/></a>"
      ]
    },
    {
      "cell_type": "code",
      "source": [
        "# Подключение модуля для загрузки данных из облака\n",
        "import gdown\n",
        "# Модуль для работы с файлами операционной системы\n",
        "import os\n",
        "from bs4 import BeautifulSoup\n",
        "# Модуль для вывода данных в читабельном виде\n",
        "from pprint import pprint\n",
        "import pandas as pd\n",
        "import numpy as np"
      ],
      "metadata": {
        "id": "u78pG0sFhvT9"
      },
      "execution_count": null,
      "outputs": []
    },
    {
      "cell_type": "markdown",
      "source": [
        "# Скачивание базы"
      ],
      "metadata": {
        "id": "eBSnOAc7JCT8"
      }
    },
    {
      "cell_type": "markdown",
      "source": [
        "### Скачивание с сервера заказчика\n",
        "\n",
        "Чтобы постоянно не долбиться на сервер, скачаем базу один раз, сохраним её на диск и потом будем обращаться к файлу."
      ],
      "metadata": {
        "id": "9bV0GTGhI5IL"
      }
    },
    {
      "cell_type": "code",
      "source": [
        "# Загрузка zip-архива с датасетом из облака на диск виртуальной машины colab\n",
        "base_file_name = 'yandexmarket.yml'\n",
        "gdown.download('https://www.netoptik.ru/yandexmarket.yml', output=base_file_name)\n",
        "base_path = os.path.join('/content', base_file_name)"
      ],
      "metadata": {
        "colab": {
          "base_uri": "https://localhost:8080/"
        },
        "id": "R0dCYFK7ITcW",
        "outputId": "54a8eb3e-c4a5-46b5-88b4-262e5cf65ad8"
      },
      "execution_count": null,
      "outputs": [
        {
          "output_type": "stream",
          "name": "stderr",
          "text": [
            "Downloading...\n",
            "From: https://www.netoptik.ru/yandexmarket.yml\n",
            "To: /content/yandexmarket.yml\n",
            "13.5kB [00:00, 30.8MB/s]                   \n"
          ]
        }
      ]
    },
    {
      "cell_type": "markdown",
      "source": [
        "### Скачивание с Google.Drive"
      ],
      "metadata": {
        "id": "UJ11ndW6ivRI"
      }
    },
    {
      "cell_type": "code",
      "source": [
        "base_file_name = 'yandexmarket.yml'\n",
        "gdown.download('https://drive.google.com/uc?id=12Feyswg1yBGfUvJKLvWtV-OIP-HbUqME', output=base_file_name)\n",
        "base_path = os.path.join('/content', base_file_name)"
      ],
      "metadata": {
        "colab": {
          "base_uri": "https://localhost:8080/"
        },
        "id": "h_zNDum6iHuF",
        "outputId": "8ac895c4-84da-405b-a4d0-7d38d83dee67"
      },
      "execution_count": null,
      "outputs": [
        {
          "output_type": "stream",
          "name": "stderr",
          "text": [
            "Downloading...\n",
            "From: https://drive.google.com/uc?id=12Feyswg1yBGfUvJKLvWtV-OIP-HbUqME\n",
            "To: /content/yandexmarket.yml\n",
            "100%|██████████| 4.55M/4.55M [00:00<00:00, 15.9MB/s]\n"
          ]
        }
      ]
    },
    {
      "cell_type": "markdown",
      "source": [
        "# Парсинг"
      ],
      "metadata": {
        "id": "CyfQS9vjJGUa"
      }
    },
    {
      "cell_type": "code",
      "source": [
        "!pip install beautifulsoup4==4.12.2 lxml"
      ],
      "metadata": {
        "colab": {
          "base_uri": "https://localhost:8080/"
        },
        "id": "FhJvEXqGB7S0",
        "outputId": "d8c949fd-c8d0-4cca-b581-6ce2037c417b"
      },
      "execution_count": null,
      "outputs": [
        {
          "output_type": "stream",
          "name": "stdout",
          "text": [
            "Looking in indexes: https://pypi.org/simple, https://us-python.pkg.dev/colab-wheels/public/simple/\n",
            "Collecting beautifulsoup4==4.12.2\n",
            "  Downloading beautifulsoup4-4.12.2-py3-none-any.whl (142 kB)\n",
            "\u001b[2K     \u001b[90m━━━━━━━━━━━━━━━━━━━━━━━━━━━━━━━━━━━━━━━\u001b[0m \u001b[32m143.0/143.0 kB\u001b[0m \u001b[31m3.7 MB/s\u001b[0m eta \u001b[36m0:00:00\u001b[0m\n",
            "\u001b[?25hRequirement already satisfied: lxml in /usr/local/lib/python3.10/dist-packages (4.9.2)\n",
            "Requirement already satisfied: soupsieve>1.2 in /usr/local/lib/python3.10/dist-packages (from beautifulsoup4==4.12.2) (2.4.1)\n",
            "Installing collected packages: beautifulsoup4\n",
            "  Attempting uninstall: beautifulsoup4\n",
            "    Found existing installation: beautifulsoup4 4.11.2\n",
            "    Uninstalling beautifulsoup4-4.11.2:\n",
            "      Successfully uninstalled beautifulsoup4-4.11.2\n",
            "Successfully installed beautifulsoup4-4.12.2\n"
          ]
        }
      ]
    },
    {
      "cell_type": "code",
      "execution_count": null,
      "metadata": {
        "id": "UkXr9waY_5CQ"
      },
      "outputs": [],
      "source": [
        "# читаем файл\n",
        "with open(base_path, 'r') as file:\n",
        "    xml_file = file.read()"
      ]
    },
    {
      "cell_type": "code",
      "source": [
        "# Получаем объект bs\n",
        "soup = BeautifulSoup(xml_file, 'lxml')\n",
        "offers = soup.findAll(\"offer\")"
      ],
      "metadata": {
        "colab": {
          "base_uri": "https://localhost:8080/"
        },
        "id": "cJyhCAdBamrF",
        "outputId": "fee9638a-afbc-492e-a933-a57cd2f6551b"
      },
      "execution_count": null,
      "outputs": [
        {
          "output_type": "stream",
          "name": "stderr",
          "text": [
            "/usr/local/lib/python3.10/dist-packages/bs4/builder/__init__.py:545: XMLParsedAsHTMLWarning: It looks like you're parsing an XML document using an HTML parser. If this really is an HTML document (maybe it's XHTML?), you can ignore or filter this warning. If it's XML, you should know that using an XML parser will be more reliable. To parse this document as XML, make sure you have the lxml package installed, and pass the keyword argument `features=\"xml\"` into the BeautifulSoup constructor.\n",
            "  warnings.warn(\n"
          ]
        }
      ]
    },
    {
      "cell_type": "markdown",
      "source": [
        "## Эксперименты с парсером"
      ],
      "metadata": {
        "id": "tkNpVveHap1g"
      }
    },
    {
      "cell_type": "code",
      "source": [
        "# Номер ордера, который мы ходим посмотреть\n",
        "OFFER_NUM = 12\n",
        "one_offer = offers[OFFER_NUM]\n",
        "print(one_offer)"
      ],
      "metadata": {
        "colab": {
          "base_uri": "https://localhost:8080/"
        },
        "id": "YQkD72EYIflW",
        "outputId": "79f67959-e8a3-4182-afb8-876bc26f2ee1"
      },
      "execution_count": null,
      "outputs": [
        {
          "output_type": "stream",
          "name": "stdout",
          "text": [
            "<offer id=\"11795\">\n",
            "<categoryid>177</categoryid>\n",
            "<name>Оправа Gucci, GG 1006, 4GX</name>\n",
            "<url>https://www.netoptik.ru/frames/men-frames/oprava-gucci-gg1006-4gx</url>\n",
            "<price>7500</price>\n",
            "<currencyid>RUB</currencyid>\n",
            "<vendor>GUCCI</vendor>\n",
            "<model>Оправа Gucci, GG 1006, 4GX</model>\n",
            "<picture>https://www.netoptik.ru/image/cache/catalog/Gucci%20(ЮД)/gucci-gg1006-4gx-s2-1%20(2)-600x600.jpg</picture>\n",
            "<picture>https://www.netoptik.ru/image/cache/catalog/Gucci%20(ЮД)/gucci-gg1006-4gx-s2-2%20(1)-600x600.jpg</picture>\n",
            "<picture>https://www.netoptik.ru/image/cache/catalog/Gucci%20(ЮД)/gucci-gg1006-4gx-s2-3%20(3)-600x600.jpg</picture>\n",
            "<param name=\"Категория\"/>Мужские оправы для очков\n",
            "<param name=\"Ширина оправы (мм)\"/>135\n",
            "<param name=\"Ширина линзы (мм)\"/>54\n",
            "<param name=\"Высота линзы (мм)\"/>36\n",
            "<param name=\"Мост (мм)\"/>16\n",
            "<param name=\"Длина заушника (мм)\"/>140\n",
            "<param name=\"Материал \"/>Комбинированный\n",
            "<param name=\"Стиль\"/>Мужские\n",
            "<param name=\"Строение оправы\"/>Ободковая\n",
            "<param name=\"Цвет оправы\"/>Черепаховый\n",
            "<param name=\"Форма очков\"/>Прямоугольные\n",
            "        <quantity>100</quantity>\n",
            "</offer>\n"
          ]
        }
      ]
    },
    {
      "cell_type": "code",
      "source": [
        "# Посмотрим названия всех доступных параметров\n",
        "for param in one_offer.select('param'):\n",
        "    print(param.attrs['name'])"
      ],
      "metadata": {
        "colab": {
          "base_uri": "https://localhost:8080/"
        },
        "id": "vV1nPNPeZJU8",
        "outputId": "70f32c8c-1da7-4daa-da46-b0632c0cd3da"
      },
      "execution_count": null,
      "outputs": [
        {
          "output_type": "stream",
          "name": "stdout",
          "text": [
            "Категория\n",
            "Ширина оправы (мм)\n",
            "Ширина линзы (мм)\n",
            "Высота линзы (мм)\n",
            "Мост (мм)\n",
            "Длина заушника (мм)\n",
            "Материал \n",
            "Стиль\n",
            "Строение оправы\n",
            "Цвет оправы\n",
            "Форма очков\n"
          ]
        }
      ]
    },
    {
      "cell_type": "markdown",
      "source": [
        "## Парсим базу"
      ],
      "metadata": {
        "id": "6ZipPS3AavZQ"
      }
    },
    {
      "cell_type": "code",
      "source": [
        "# Зададим список данных (тэгов), которые нам нужны\n",
        "TAGS_LIST = ['name', 'picture']\n",
        "# Зададим список параметров, которые нам нужны\n",
        "PARAMS_LIST = ['Категория', 'Материал']"
      ],
      "metadata": {
        "id": "9eb2btElZnAq"
      },
      "execution_count": null,
      "outputs": []
    },
    {
      "cell_type": "code",
      "source": [
        "data_list = []\n",
        "\n",
        "for offer in offers:\n",
        "    new_line = {}\n",
        "\n",
        "    # Добавляем значения нужных нам тэгов\n",
        "    for tag in TAGS_LIST:\n",
        "        new_line[tag] = offer.find(tag).getText()\n",
        "\n",
        "        if tag == 'picture':\n",
        "            result = []\n",
        "            for pic in offer.find_all(tag):\n",
        "                result.append(pic.getText())\n",
        "            new_line[tag] = '\\n'.join(result)\n",
        "\n",
        "\n",
        "    # Добавляем значения нужных нам параметров\n",
        "    for needed_param in PARAMS_LIST:\n",
        "        for param in offer.find_all('param'):\n",
        "            if needed_param in param.attrs['name'].strip():\n",
        "                new_line[needed_param] = param.next_element.replace('\\n', '').strip()\n",
        "\n",
        "    # добавляем данные в список data_list\n",
        "    data_list.append(new_line)"
      ],
      "metadata": {
        "id": "EfgpsmXIbcpn"
      },
      "execution_count": null,
      "outputs": []
    },
    {
      "cell_type": "code",
      "source": [
        "# Добавляем данные в датафрейм\n",
        "base_df = pd.DataFrame(data_list)"
      ],
      "metadata": {
        "id": "EqBZ2nX2v097"
      },
      "execution_count": null,
      "outputs": []
    },
    {
      "cell_type": "code",
      "source": [
        "display(base_df)"
      ],
      "metadata": {
        "colab": {
          "base_uri": "https://localhost:8080/",
          "height": 424
        },
        "id": "IAt2beNMsXkI",
        "outputId": "a58571f3-6d1a-42da-96cf-87c4b052e7a4"
      },
      "execution_count": null,
      "outputs": [
        {
          "output_type": "display_data",
          "data": {
            "text/plain": [
              "                                       name  \\\n",
              "0          Оправа Balenciaga, BAL 0108, 8O0   \n",
              "1          Оправа Boss Orange, BO 0329, YZ4   \n",
              "2     Оправа Boss Hugo Boss, BOSS 1312, 003   \n",
              "3     Оправа Boss Hugo Boss, BOSS 1246, CNI   \n",
              "4              Оправа Carrera, CA 6660, VBP   \n",
              "...                                     ...   \n",
              "2448               Оправа FILOS, FF1300, 04   \n",
              "2449               Оправа FILOS, FF1300, 05   \n",
              "2450               Оправа FILOS, FF1303, 03   \n",
              "2451               Оправа FILOS, FF1303, 01   \n",
              "2452               Оправа FILOS, FF1303, 07   \n",
              "\n",
              "                                                picture  \\\n",
              "0     https://www.netoptik.ru/image/cache/data/med_o...   \n",
              "1     https://www.netoptik.ru/image/cache/catalog/Bo...   \n",
              "2     https://www.netoptik.ru/image/cache/catalog/Bo...   \n",
              "3     https://www.netoptik.ru/image/cache/catalog/Bo...   \n",
              "4     https://www.netoptik.ru/image/cache/data/carre...   \n",
              "...                                                 ...   \n",
              "2448  https://www.netoptik.ru/image/cache/catalog/FI...   \n",
              "2449  https://www.netoptik.ru/image/cache/catalog/FI...   \n",
              "2450  https://www.netoptik.ru/image/cache/catalog/FI...   \n",
              "2451  https://www.netoptik.ru/image/cache/catalog/FI...   \n",
              "2452  https://www.netoptik.ru/image/cache/catalog/FI...   \n",
              "\n",
              "                     Категория         Материал  \n",
              "0             Оправы для очков  комбинированный  \n",
              "1     Мужские оправы для очков           Металл  \n",
              "2             Оправы для очков  Комбинированный  \n",
              "3             Оправы для очков           Металл  \n",
              "4     Женские оправы для очков           металл  \n",
              "...                        ...              ...  \n",
              "2448                       NaN           Металл  \n",
              "2449                       NaN           Металл  \n",
              "2450                       NaN           Металл  \n",
              "2451                       NaN           Металл  \n",
              "2452                       NaN           Металл  \n",
              "\n",
              "[2453 rows x 4 columns]"
            ],
            "text/html": [
              "\n",
              "  <div id=\"df-d6c53f93-2d6f-4283-b77b-51b54b05a2de\">\n",
              "    <div class=\"colab-df-container\">\n",
              "      <div>\n",
              "<style scoped>\n",
              "    .dataframe tbody tr th:only-of-type {\n",
              "        vertical-align: middle;\n",
              "    }\n",
              "\n",
              "    .dataframe tbody tr th {\n",
              "        vertical-align: top;\n",
              "    }\n",
              "\n",
              "    .dataframe thead th {\n",
              "        text-align: right;\n",
              "    }\n",
              "</style>\n",
              "<table border=\"1\" class=\"dataframe\">\n",
              "  <thead>\n",
              "    <tr style=\"text-align: right;\">\n",
              "      <th></th>\n",
              "      <th>name</th>\n",
              "      <th>picture</th>\n",
              "      <th>Категория</th>\n",
              "      <th>Материал</th>\n",
              "    </tr>\n",
              "  </thead>\n",
              "  <tbody>\n",
              "    <tr>\n",
              "      <th>0</th>\n",
              "      <td>Оправа Balenciaga, BAL 0108, 8O0</td>\n",
              "      <td>https://www.netoptik.ru/image/cache/data/med_o...</td>\n",
              "      <td>Оправы для очков</td>\n",
              "      <td>комбинированный</td>\n",
              "    </tr>\n",
              "    <tr>\n",
              "      <th>1</th>\n",
              "      <td>Оправа Boss Orange, BO 0329, YZ4</td>\n",
              "      <td>https://www.netoptik.ru/image/cache/catalog/Bo...</td>\n",
              "      <td>Мужские оправы для очков</td>\n",
              "      <td>Металл</td>\n",
              "    </tr>\n",
              "    <tr>\n",
              "      <th>2</th>\n",
              "      <td>Оправа Boss Hugo Boss, BOSS 1312, 003</td>\n",
              "      <td>https://www.netoptik.ru/image/cache/catalog/Bo...</td>\n",
              "      <td>Оправы для очков</td>\n",
              "      <td>Комбинированный</td>\n",
              "    </tr>\n",
              "    <tr>\n",
              "      <th>3</th>\n",
              "      <td>Оправа Boss Hugo Boss, BOSS 1246, CNI</td>\n",
              "      <td>https://www.netoptik.ru/image/cache/catalog/Bo...</td>\n",
              "      <td>Оправы для очков</td>\n",
              "      <td>Металл</td>\n",
              "    </tr>\n",
              "    <tr>\n",
              "      <th>4</th>\n",
              "      <td>Оправа Carrera, CA 6660, VBP</td>\n",
              "      <td>https://www.netoptik.ru/image/cache/data/carre...</td>\n",
              "      <td>Женские оправы для очков</td>\n",
              "      <td>металл</td>\n",
              "    </tr>\n",
              "    <tr>\n",
              "      <th>...</th>\n",
              "      <td>...</td>\n",
              "      <td>...</td>\n",
              "      <td>...</td>\n",
              "      <td>...</td>\n",
              "    </tr>\n",
              "    <tr>\n",
              "      <th>2448</th>\n",
              "      <td>Оправа FILOS, FF1300, 04</td>\n",
              "      <td>https://www.netoptik.ru/image/cache/catalog/FI...</td>\n",
              "      <td>NaN</td>\n",
              "      <td>Металл</td>\n",
              "    </tr>\n",
              "    <tr>\n",
              "      <th>2449</th>\n",
              "      <td>Оправа FILOS, FF1300, 05</td>\n",
              "      <td>https://www.netoptik.ru/image/cache/catalog/FI...</td>\n",
              "      <td>NaN</td>\n",
              "      <td>Металл</td>\n",
              "    </tr>\n",
              "    <tr>\n",
              "      <th>2450</th>\n",
              "      <td>Оправа FILOS, FF1303, 03</td>\n",
              "      <td>https://www.netoptik.ru/image/cache/catalog/FI...</td>\n",
              "      <td>NaN</td>\n",
              "      <td>Металл</td>\n",
              "    </tr>\n",
              "    <tr>\n",
              "      <th>2451</th>\n",
              "      <td>Оправа FILOS, FF1303, 01</td>\n",
              "      <td>https://www.netoptik.ru/image/cache/catalog/FI...</td>\n",
              "      <td>NaN</td>\n",
              "      <td>Металл</td>\n",
              "    </tr>\n",
              "    <tr>\n",
              "      <th>2452</th>\n",
              "      <td>Оправа FILOS, FF1303, 07</td>\n",
              "      <td>https://www.netoptik.ru/image/cache/catalog/FI...</td>\n",
              "      <td>NaN</td>\n",
              "      <td>Металл</td>\n",
              "    </tr>\n",
              "  </tbody>\n",
              "</table>\n",
              "<p>2453 rows × 4 columns</p>\n",
              "</div>\n",
              "      <button class=\"colab-df-convert\" onclick=\"convertToInteractive('df-d6c53f93-2d6f-4283-b77b-51b54b05a2de')\"\n",
              "              title=\"Convert this dataframe to an interactive table.\"\n",
              "              style=\"display:none;\">\n",
              "        \n",
              "  <svg xmlns=\"http://www.w3.org/2000/svg\" height=\"24px\"viewBox=\"0 0 24 24\"\n",
              "       width=\"24px\">\n",
              "    <path d=\"M0 0h24v24H0V0z\" fill=\"none\"/>\n",
              "    <path d=\"M18.56 5.44l.94 2.06.94-2.06 2.06-.94-2.06-.94-.94-2.06-.94 2.06-2.06.94zm-11 1L8.5 8.5l.94-2.06 2.06-.94-2.06-.94L8.5 2.5l-.94 2.06-2.06.94zm10 10l.94 2.06.94-2.06 2.06-.94-2.06-.94-.94-2.06-.94 2.06-2.06.94z\"/><path d=\"M17.41 7.96l-1.37-1.37c-.4-.4-.92-.59-1.43-.59-.52 0-1.04.2-1.43.59L10.3 9.45l-7.72 7.72c-.78.78-.78 2.05 0 2.83L4 21.41c.39.39.9.59 1.41.59.51 0 1.02-.2 1.41-.59l7.78-7.78 2.81-2.81c.8-.78.8-2.07 0-2.86zM5.41 20L4 18.59l7.72-7.72 1.47 1.35L5.41 20z\"/>\n",
              "  </svg>\n",
              "      </button>\n",
              "      \n",
              "  <style>\n",
              "    .colab-df-container {\n",
              "      display:flex;\n",
              "      flex-wrap:wrap;\n",
              "      gap: 12px;\n",
              "    }\n",
              "\n",
              "    .colab-df-convert {\n",
              "      background-color: #E8F0FE;\n",
              "      border: none;\n",
              "      border-radius: 50%;\n",
              "      cursor: pointer;\n",
              "      display: none;\n",
              "      fill: #1967D2;\n",
              "      height: 32px;\n",
              "      padding: 0 0 0 0;\n",
              "      width: 32px;\n",
              "    }\n",
              "\n",
              "    .colab-df-convert:hover {\n",
              "      background-color: #E2EBFA;\n",
              "      box-shadow: 0px 1px 2px rgba(60, 64, 67, 0.3), 0px 1px 3px 1px rgba(60, 64, 67, 0.15);\n",
              "      fill: #174EA6;\n",
              "    }\n",
              "\n",
              "    [theme=dark] .colab-df-convert {\n",
              "      background-color: #3B4455;\n",
              "      fill: #D2E3FC;\n",
              "    }\n",
              "\n",
              "    [theme=dark] .colab-df-convert:hover {\n",
              "      background-color: #434B5C;\n",
              "      box-shadow: 0px 1px 3px 1px rgba(0, 0, 0, 0.15);\n",
              "      filter: drop-shadow(0px 1px 2px rgba(0, 0, 0, 0.3));\n",
              "      fill: #FFFFFF;\n",
              "    }\n",
              "  </style>\n",
              "\n",
              "      <script>\n",
              "        const buttonEl =\n",
              "          document.querySelector('#df-d6c53f93-2d6f-4283-b77b-51b54b05a2de button.colab-df-convert');\n",
              "        buttonEl.style.display =\n",
              "          google.colab.kernel.accessAllowed ? 'block' : 'none';\n",
              "\n",
              "        async function convertToInteractive(key) {\n",
              "          const element = document.querySelector('#df-d6c53f93-2d6f-4283-b77b-51b54b05a2de');\n",
              "          const dataTable =\n",
              "            await google.colab.kernel.invokeFunction('convertToInteractive',\n",
              "                                                     [key], {});\n",
              "          if (!dataTable) return;\n",
              "\n",
              "          const docLinkHtml = 'Like what you see? Visit the ' +\n",
              "            '<a target=\"_blank\" href=https://colab.research.google.com/notebooks/data_table.ipynb>data table notebook</a>'\n",
              "            + ' to learn more about interactive tables.';\n",
              "          element.innerHTML = '';\n",
              "          dataTable['output_type'] = 'display_data';\n",
              "          await google.colab.output.renderOutput(dataTable, element);\n",
              "          const docLink = document.createElement('div');\n",
              "          docLink.innerHTML = docLinkHtml;\n",
              "          element.appendChild(docLink);\n",
              "        }\n",
              "      </script>\n",
              "    </div>\n",
              "  </div>\n",
              "  "
            ]
          },
          "metadata": {}
        }
      ]
    },
    {
      "cell_type": "code",
      "source": [
        "display(base_df['Материал'].unique())"
      ],
      "metadata": {
        "colab": {
          "base_uri": "https://localhost:8080/",
          "height": 86
        },
        "id": "TAXsZcVeza6v",
        "outputId": "8dc057a2-9daf-42df-ae0a-ef314c9f2b87"
      },
      "execution_count": null,
      "outputs": [
        {
          "output_type": "display_data",
          "data": {
            "text/plain": [
              "array(['комбинированный', 'Металл', 'Комбинированный', 'металл',\n",
              "       'Пластик', 'пластик', nan, 'Трайвекс', 'Силикон',\n",
              "       'Пластик, ударопрочный', 'титан', 'Поликарбонат', 'Титан',\n",
              "       'Стекло', 'Silflex', 'силикон', 'Комбинированные'], dtype=object)"
            ]
          },
          "metadata": {}
        }
      ]
    },
    {
      "cell_type": "code",
      "source": [
        "# Получаем уникальные значения из столбца 'Категория' в DataFrame\n",
        "unique_values = base_df['Категория'].fillna('нет данных').unique()\n",
        "\n",
        "# Сортируем значения по алфавиту, игнорируя регистр букв\n",
        "sorted_values = sorted(unique_values, key=str.lower)\n",
        "\n",
        "# Выводим отсортированные значения\n",
        "pprint(sorted_values)"
      ],
      "metadata": {
        "colab": {
          "base_uri": "https://localhost:8080/"
        },
        "id": "MkhZ_7q4ue47",
        "outputId": "1b1d08e7-38e0-4f5a-f45b-5945153cee24"
      },
      "execution_count": null,
      "outputs": [
        {
          "output_type": "stream",
          "name": "stdout",
          "text": [
            "['SALE',\n",
            " 'Аксессуары',\n",
            " 'Бифокальные линзы',\n",
            " 'Водительские очки',\n",
            " 'Готовые очки',\n",
            " 'Детские',\n",
            " 'Детские очки',\n",
            " 'Женские оправы для очков',\n",
            " 'женские очки',\n",
            " 'Женские очки',\n",
            " 'Женскиеоправы для очков',\n",
            " 'Женский',\n",
            " 'Компьютерные линзы',\n",
            " 'Компьютерные очки',\n",
            " 'Лентикуляры для высоких диоптрий',\n",
            " 'Линзы для детей',\n",
            " 'Линзы для очков',\n",
            " 'Линзы с поддержкой аккомадации',\n",
            " 'Мужские оправы для очков',\n",
            " 'Мужские очки',\n",
            " 'Мужскиеоправы для очков',\n",
            " 'нет данных',\n",
            " 'Однофокальные линзы',\n",
            " 'Оправы',\n",
            " 'Оправы для очков',\n",
            " 'Оправы оправы для очков',\n",
            " 'Офисные линзы',\n",
            " 'Очки для плавания',\n",
            " 'Очки на очки',\n",
            " 'Очки спецназначения',\n",
            " 'Очки тренажеры',\n",
            " 'Пенсне',\n",
            " 'Половинки для чтения',\n",
            " 'Прогрессивные линзы',\n",
            " 'Солнцезащитные очки',\n",
            " 'Спецназначения',\n",
            " 'Спортивные',\n",
            " 'Спортивные очки',\n",
            " 'Унисекс',\n",
            " 'Фотохромные линзы']\n"
          ]
        }
      ]
    },
    {
      "cell_type": "code",
      "source": [
        "# Получаем уникальные значения из столбца 'Материал' в DataFrame\n",
        "unique_values = base_df['Материал'].fillna('нет данных').unique()\n",
        "\n",
        "# Сортируем значения по алфавиту, игнорируя регистр букв\n",
        "sorted_values = sorted(unique_values, key=str.lower)\n",
        "\n",
        "# Выводим отсортированные значения\n",
        "pprint(sorted_values)"
      ],
      "metadata": {
        "colab": {
          "base_uri": "https://localhost:8080/"
        },
        "id": "eTo1CHBsKVOM",
        "outputId": "5ca47890-8b9c-430a-963f-991ba2b371fb"
      },
      "execution_count": null,
      "outputs": [
        {
          "output_type": "stream",
          "name": "stdout",
          "text": [
            "['Silflex',\n",
            " 'Комбинированные',\n",
            " 'комбинированный',\n",
            " 'Комбинированный',\n",
            " 'Металл',\n",
            " 'металл',\n",
            " 'нет данных',\n",
            " 'Пластик',\n",
            " 'пластик',\n",
            " 'Пластик, ударопрочный',\n",
            " 'Поликарбонат',\n",
            " 'Силикон',\n",
            " 'силикон',\n",
            " 'Стекло',\n",
            " 'титан',\n",
            " 'Титан',\n",
            " 'Трайвекс']\n"
          ]
        }
      ]
    },
    {
      "cell_type": "code",
      "source": [
        "base_df['Материал'].str.lower().value_counts().sort_index()"
      ],
      "metadata": {
        "colab": {
          "base_uri": "https://localhost:8080/"
        },
        "id": "RIhmNeopcnVi",
        "outputId": "8070e253-7434-4a62-c142-264278521d85"
      },
      "execution_count": null,
      "outputs": [
        {
          "output_type": "execute_result",
          "data": {
            "text/plain": [
              "silflex                     8\n",
              "комбинированные             5\n",
              "комбинированный           624\n",
              "металл                    429\n",
              "пластик                  1175\n",
              "пластик, ударопрочный       1\n",
              "поликарбонат               23\n",
              "силикон                    95\n",
              "стекло                      1\n",
              "титан                      68\n",
              "трайвекс                    5\n",
              "Name: Материал, dtype: int64"
            ]
          },
          "metadata": {},
          "execution_count": 17
        }
      ]
    },
    {
      "cell_type": "code",
      "source": [
        "base_df['Материал'].value_counts().sort_index()"
      ],
      "metadata": {
        "colab": {
          "base_uri": "https://localhost:8080/"
        },
        "id": "i3ZrvSA0eJtr",
        "outputId": "66092ac2-46ea-49dc-fffc-ff5db51ff190"
      },
      "execution_count": null,
      "outputs": [
        {
          "output_type": "execute_result",
          "data": {
            "text/plain": [
              "Silflex                    8\n",
              "Комбинированные            5\n",
              "Комбинированный          417\n",
              "Металл                   317\n",
              "Пластик                  965\n",
              "Пластик, ударопрочный      1\n",
              "Поликарбонат              23\n",
              "Силикон                   71\n",
              "Стекло                     1\n",
              "Титан                     65\n",
              "Трайвекс                   5\n",
              "комбинированный          207\n",
              "металл                   112\n",
              "пластик                  210\n",
              "силикон                   24\n",
              "титан                      3\n",
              "Name: Материал, dtype: int64"
            ]
          },
          "metadata": {},
          "execution_count": 18
        }
      ]
    },
    {
      "cell_type": "markdown",
      "source": [
        "## Причешем данные"
      ],
      "metadata": {
        "id": "XiQ_XBr6oBQQ"
      }
    },
    {
      "cell_type": "code",
      "source": [
        "# nan заменим на 'нет данных'\n",
        "base_df['Материал'] = base_df['Материал'].fillna('нет данных')"
      ],
      "metadata": {
        "id": "XidMjLMnrRsA"
      },
      "execution_count": null,
      "outputs": []
    },
    {
      "cell_type": "code",
      "source": [
        "# Удалим ненужные данные\n",
        "delete_list = ['Silflex', 'Пластик, ударопрочный', 'Поликарбонат',\n",
        "               'Силикон', 'силикон', 'Стекло', 'титан', 'Титан',\n",
        "               'Трайвекс']"
      ],
      "metadata": {
        "id": "3hGEfKQX1HJO"
      },
      "execution_count": null,
      "outputs": []
    },
    {
      "cell_type": "code",
      "source": [
        "# удаляем строки, у которых значение в столбце \"Материал\" равно значению из списка delete_list\n",
        "base_df = base_df[~base_df['Материал'].isin(delete_list)]"
      ],
      "metadata": {
        "id": "zGtNazd22W19"
      },
      "execution_count": null,
      "outputs": []
    },
    {
      "cell_type": "code",
      "source": [
        "# Смотрим, что получилось\n",
        "print(base_df['Материал'].unique())"
      ],
      "metadata": {
        "colab": {
          "base_uri": "https://localhost:8080/"
        },
        "id": "Xb0jliBN2ajs",
        "outputId": "d09f1022-e6fe-4dd5-da15-d5fd6993880c"
      },
      "execution_count": null,
      "outputs": [
        {
          "output_type": "stream",
          "name": "stdout",
          "text": [
            "['комбинированный' 'Металл' 'Комбинированный' 'металл' 'Пластик' 'пластик'\n",
            " 'нет данных' 'Комбинированные']\n"
          ]
        }
      ]
    },
    {
      "cell_type": "code",
      "source": [
        "# Словарь замены значений\n",
        "replace_dict = {\n",
        "    'комбинированный': ['Комбинированные', 'Комбинированный'],\n",
        "    'металл': ['Металл'],\n",
        "    'пластик': ['Пластик']\n",
        "    #'silflex': ['Silflex'],\n",
        "    #'поликарбонат': ['Поликарбонат'],\n",
        "    #'силикон': ['Силикон'],\n",
        "    #'стекло': ['Стекло'],\n",
        "    #'титан': ['Титан'],\n",
        "    #'трайвекс': ['Трайвекс']\n",
        "}"
      ],
      "metadata": {
        "id": "ktkNNqsvoFmv"
      },
      "execution_count": null,
      "outputs": []
    },
    {
      "cell_type": "code",
      "source": [
        "# заменяем значения в столбце \"Материал\" по словарю replace_dict\n",
        "for key, values in replace_dict.items():\n",
        "    base_df['Материал'] = base_df['Материал'].replace(values, key)"
      ],
      "metadata": {
        "id": "QnC7S9RkqoJH",
        "colab": {
          "base_uri": "https://localhost:8080/"
        },
        "outputId": "40181cfb-2d91-4b17-f159-ca98e6d49527"
      },
      "execution_count": null,
      "outputs": [
        {
          "output_type": "stream",
          "name": "stderr",
          "text": [
            "<ipython-input-24-7c75b2de8f38>:3: SettingWithCopyWarning: \n",
            "A value is trying to be set on a copy of a slice from a DataFrame.\n",
            "Try using .loc[row_indexer,col_indexer] = value instead\n",
            "\n",
            "See the caveats in the documentation: https://pandas.pydata.org/pandas-docs/stable/user_guide/indexing.html#returning-a-view-versus-a-copy\n",
            "  base_df['Материал'] = base_df['Материал'].replace(values, key)\n"
          ]
        }
      ]
    },
    {
      "cell_type": "code",
      "source": [
        "# Смотрим, что получилось\n",
        "print(base_df['Материал'].unique())"
      ],
      "metadata": {
        "colab": {
          "base_uri": "https://localhost:8080/"
        },
        "id": "yAKbekqbqush",
        "outputId": "4e0d1cc5-c9e7-4c1f-b2c5-56b3871f6964"
      },
      "execution_count": null,
      "outputs": [
        {
          "output_type": "stream",
          "name": "stdout",
          "text": [
            "['комбинированный' 'металл' 'пластик' 'нет данных']\n"
          ]
        }
      ]
    },
    {
      "cell_type": "code",
      "source": [
        "base_df['Материал'].value_counts().sort_index()"
      ],
      "metadata": {
        "colab": {
          "base_uri": "https://localhost:8080/"
        },
        "id": "1-BLDbfcsJny",
        "outputId": "a4561306-34bb-4fc4-cd01-0e9072813b6f"
      },
      "execution_count": null,
      "outputs": [
        {
          "output_type": "execute_result",
          "data": {
            "text/plain": [
              "комбинированный     629\n",
              "металл              429\n",
              "нет данных           19\n",
              "пластик            1175\n",
              "Name: Материал, dtype: int64"
            ]
          },
          "metadata": {},
          "execution_count": 26
        }
      ]
    },
    {
      "cell_type": "code",
      "source": [
        "# Сохраним данные в файл формата csv\n",
        "base_df.to_csv('materials_data.csv', index=False)"
      ],
      "metadata": {
        "id": "YTuKK52Rw3w4"
      },
      "execution_count": null,
      "outputs": []
    },
    {
      "cell_type": "markdown",
      "source": [
        "## Соберём по каждому классу отдельную папку с изображениями"
      ],
      "metadata": {
        "id": "oNLfhcsaw7Zh"
      }
    },
    {
      "cell_type": "code",
      "source": [
        "# import os\n",
        "# import pandas as pd\n",
        "import requests\n",
        "import time\n",
        "\n",
        "# Создание папки materials_pictures, если её ещё нет\n",
        "if not os.path.exists('materials_pictures'):\n",
        "    os.makedirs('materials_pictures')\n",
        "\n",
        "# Создание папок для каждого материала внутри materials_pictures,\n",
        "# если их ещё нет\n",
        "materials = list(base_df['Материал'].unique())\n",
        "for material in materials:\n",
        "    if not os.path.exists(os.path.join('materials_pictures', material)):\n",
        "        os.makedirs(os.path.join('materials_pictures', material))\n",
        "\n",
        "# Чтение данных из DataFrame\n",
        "base_df = pd.read_csv('materials_data.csv')\n",
        "\n",
        "# Проход по строкам DataFrame и скачивание картинок\n",
        "start_time = time.time() # засекаем начало времени\n",
        "for index, row in base_df.iterrows():\n",
        "    material = row['Материал']\n",
        "    picture_links = row['picture'].split('\\n')\n",
        "\n",
        "    for link in picture_links:\n",
        "        try:\n",
        "            response = requests.get(link)\n",
        "        except:\n",
        "            pass\n",
        "        else:\n",
        "            if response.status_code == 200:\n",
        "                filename = os.path.join('materials_pictures', material,\n",
        "                                        os.path.basename(link))\n",
        "                with open(filename, 'wb') as f:\n",
        "                    f.write(response.content)\n",
        "            else:\n",
        "                print(f'Ошибка загрузки изображения: {link}')\n",
        "\n",
        "# Вывод времени выполнения\n",
        "end_time = time.time() # засекаем конец времени\n",
        "print(f'Время выполнения: {end_time - start_time:.2f} секунд')"
      ],
      "metadata": {
        "colab": {
          "base_uri": "https://localhost:8080/",
          "height": 400
        },
        "id": "TSPBBql0xAIj",
        "outputId": "0501181e-488f-4cd5-c051-546bf9526291"
      },
      "execution_count": null,
      "outputs": [
        {
          "output_type": "error",
          "ename": "MissingSchema",
          "evalue": "ignored",
          "traceback": [
            "\u001b[0;31m---------------------------------------------------------------------------\u001b[0m",
            "\u001b[0;31mMissingSchema\u001b[0m                             Traceback (most recent call last)",
            "\u001b[0;32m<ipython-input-30-fd17c85c9ae5>\u001b[0m in \u001b[0;36m<cell line: 22>\u001b[0;34m()\u001b[0m\n\u001b[1;32m     25\u001b[0m \u001b[0;34m\u001b[0m\u001b[0m\n\u001b[1;32m     26\u001b[0m     \u001b[0;32mfor\u001b[0m \u001b[0mlink\u001b[0m \u001b[0;32min\u001b[0m \u001b[0mpicture_links\u001b[0m\u001b[0;34m:\u001b[0m\u001b[0;34m\u001b[0m\u001b[0;34m\u001b[0m\u001b[0m\n\u001b[0;32m---> 27\u001b[0;31m         \u001b[0mresponse\u001b[0m \u001b[0;34m=\u001b[0m \u001b[0mrequests\u001b[0m\u001b[0;34m.\u001b[0m\u001b[0mget\u001b[0m\u001b[0;34m(\u001b[0m\u001b[0mlink\u001b[0m\u001b[0;34m)\u001b[0m\u001b[0;34m\u001b[0m\u001b[0;34m\u001b[0m\u001b[0m\n\u001b[0m\u001b[1;32m     28\u001b[0m         \u001b[0;32mif\u001b[0m \u001b[0mresponse\u001b[0m\u001b[0;34m.\u001b[0m\u001b[0mstatus_code\u001b[0m \u001b[0;34m==\u001b[0m \u001b[0;36m200\u001b[0m\u001b[0;34m:\u001b[0m\u001b[0;34m\u001b[0m\u001b[0;34m\u001b[0m\u001b[0m\n\u001b[1;32m     29\u001b[0m             filename = os.path.join('materials_pictures', material,\n",
            "\u001b[0;32m/usr/local/lib/python3.10/dist-packages/requests/api.py\u001b[0m in \u001b[0;36mget\u001b[0;34m(url, params, **kwargs)\u001b[0m\n\u001b[1;32m     73\u001b[0m     \"\"\"\n\u001b[1;32m     74\u001b[0m \u001b[0;34m\u001b[0m\u001b[0m\n\u001b[0;32m---> 75\u001b[0;31m     \u001b[0;32mreturn\u001b[0m \u001b[0mrequest\u001b[0m\u001b[0;34m(\u001b[0m\u001b[0;34m'get'\u001b[0m\u001b[0;34m,\u001b[0m \u001b[0murl\u001b[0m\u001b[0;34m,\u001b[0m \u001b[0mparams\u001b[0m\u001b[0;34m=\u001b[0m\u001b[0mparams\u001b[0m\u001b[0;34m,\u001b[0m \u001b[0;34m**\u001b[0m\u001b[0mkwargs\u001b[0m\u001b[0;34m)\u001b[0m\u001b[0;34m\u001b[0m\u001b[0;34m\u001b[0m\u001b[0m\n\u001b[0m\u001b[1;32m     76\u001b[0m \u001b[0;34m\u001b[0m\u001b[0m\n\u001b[1;32m     77\u001b[0m \u001b[0;34m\u001b[0m\u001b[0m\n",
            "\u001b[0;32m/usr/local/lib/python3.10/dist-packages/requests/api.py\u001b[0m in \u001b[0;36mrequest\u001b[0;34m(method, url, **kwargs)\u001b[0m\n\u001b[1;32m     59\u001b[0m     \u001b[0;31m# cases, and look like a memory leak in others.\u001b[0m\u001b[0;34m\u001b[0m\u001b[0;34m\u001b[0m\u001b[0m\n\u001b[1;32m     60\u001b[0m     \u001b[0;32mwith\u001b[0m \u001b[0msessions\u001b[0m\u001b[0;34m.\u001b[0m\u001b[0mSession\u001b[0m\u001b[0;34m(\u001b[0m\u001b[0;34m)\u001b[0m \u001b[0;32mas\u001b[0m \u001b[0msession\u001b[0m\u001b[0;34m:\u001b[0m\u001b[0;34m\u001b[0m\u001b[0;34m\u001b[0m\u001b[0m\n\u001b[0;32m---> 61\u001b[0;31m         \u001b[0;32mreturn\u001b[0m \u001b[0msession\u001b[0m\u001b[0;34m.\u001b[0m\u001b[0mrequest\u001b[0m\u001b[0;34m(\u001b[0m\u001b[0mmethod\u001b[0m\u001b[0;34m=\u001b[0m\u001b[0mmethod\u001b[0m\u001b[0;34m,\u001b[0m \u001b[0murl\u001b[0m\u001b[0;34m=\u001b[0m\u001b[0murl\u001b[0m\u001b[0;34m,\u001b[0m \u001b[0;34m**\u001b[0m\u001b[0mkwargs\u001b[0m\u001b[0;34m)\u001b[0m\u001b[0;34m\u001b[0m\u001b[0;34m\u001b[0m\u001b[0m\n\u001b[0m\u001b[1;32m     62\u001b[0m \u001b[0;34m\u001b[0m\u001b[0m\n\u001b[1;32m     63\u001b[0m \u001b[0;34m\u001b[0m\u001b[0m\n",
            "\u001b[0;32m/usr/local/lib/python3.10/dist-packages/requests/sessions.py\u001b[0m in \u001b[0;36mrequest\u001b[0;34m(self, method, url, params, data, headers, cookies, files, auth, timeout, allow_redirects, proxies, hooks, stream, verify, cert, json)\u001b[0m\n\u001b[1;32m    513\u001b[0m             \u001b[0mhooks\u001b[0m\u001b[0;34m=\u001b[0m\u001b[0mhooks\u001b[0m\u001b[0;34m,\u001b[0m\u001b[0;34m\u001b[0m\u001b[0;34m\u001b[0m\u001b[0m\n\u001b[1;32m    514\u001b[0m         )\n\u001b[0;32m--> 515\u001b[0;31m         \u001b[0mprep\u001b[0m \u001b[0;34m=\u001b[0m \u001b[0mself\u001b[0m\u001b[0;34m.\u001b[0m\u001b[0mprepare_request\u001b[0m\u001b[0;34m(\u001b[0m\u001b[0mreq\u001b[0m\u001b[0;34m)\u001b[0m\u001b[0;34m\u001b[0m\u001b[0;34m\u001b[0m\u001b[0m\n\u001b[0m\u001b[1;32m    516\u001b[0m \u001b[0;34m\u001b[0m\u001b[0m\n\u001b[1;32m    517\u001b[0m         \u001b[0mproxies\u001b[0m \u001b[0;34m=\u001b[0m \u001b[0mproxies\u001b[0m \u001b[0;32mor\u001b[0m \u001b[0;34m{\u001b[0m\u001b[0;34m}\u001b[0m\u001b[0;34m\u001b[0m\u001b[0;34m\u001b[0m\u001b[0m\n",
            "\u001b[0;32m/usr/local/lib/python3.10/dist-packages/requests/sessions.py\u001b[0m in \u001b[0;36mprepare_request\u001b[0;34m(self, request)\u001b[0m\n\u001b[1;32m    441\u001b[0m \u001b[0;34m\u001b[0m\u001b[0m\n\u001b[1;32m    442\u001b[0m         \u001b[0mp\u001b[0m \u001b[0;34m=\u001b[0m \u001b[0mPreparedRequest\u001b[0m\u001b[0;34m(\u001b[0m\u001b[0;34m)\u001b[0m\u001b[0;34m\u001b[0m\u001b[0;34m\u001b[0m\u001b[0m\n\u001b[0;32m--> 443\u001b[0;31m         p.prepare(\n\u001b[0m\u001b[1;32m    444\u001b[0m             \u001b[0mmethod\u001b[0m\u001b[0;34m=\u001b[0m\u001b[0mrequest\u001b[0m\u001b[0;34m.\u001b[0m\u001b[0mmethod\u001b[0m\u001b[0;34m.\u001b[0m\u001b[0mupper\u001b[0m\u001b[0;34m(\u001b[0m\u001b[0;34m)\u001b[0m\u001b[0;34m,\u001b[0m\u001b[0;34m\u001b[0m\u001b[0;34m\u001b[0m\u001b[0m\n\u001b[1;32m    445\u001b[0m             \u001b[0murl\u001b[0m\u001b[0;34m=\u001b[0m\u001b[0mrequest\u001b[0m\u001b[0;34m.\u001b[0m\u001b[0murl\u001b[0m\u001b[0;34m,\u001b[0m\u001b[0;34m\u001b[0m\u001b[0;34m\u001b[0m\u001b[0m\n",
            "\u001b[0;32m/usr/local/lib/python3.10/dist-packages/requests/models.py\u001b[0m in \u001b[0;36mprepare\u001b[0;34m(self, method, url, headers, files, data, params, auth, cookies, hooks, json)\u001b[0m\n\u001b[1;32m    316\u001b[0m \u001b[0;34m\u001b[0m\u001b[0m\n\u001b[1;32m    317\u001b[0m         \u001b[0mself\u001b[0m\u001b[0;34m.\u001b[0m\u001b[0mprepare_method\u001b[0m\u001b[0;34m(\u001b[0m\u001b[0mmethod\u001b[0m\u001b[0;34m)\u001b[0m\u001b[0;34m\u001b[0m\u001b[0;34m\u001b[0m\u001b[0m\n\u001b[0;32m--> 318\u001b[0;31m         \u001b[0mself\u001b[0m\u001b[0;34m.\u001b[0m\u001b[0mprepare_url\u001b[0m\u001b[0;34m(\u001b[0m\u001b[0murl\u001b[0m\u001b[0;34m,\u001b[0m \u001b[0mparams\u001b[0m\u001b[0;34m)\u001b[0m\u001b[0;34m\u001b[0m\u001b[0;34m\u001b[0m\u001b[0m\n\u001b[0m\u001b[1;32m    319\u001b[0m         \u001b[0mself\u001b[0m\u001b[0;34m.\u001b[0m\u001b[0mprepare_headers\u001b[0m\u001b[0;34m(\u001b[0m\u001b[0mheaders\u001b[0m\u001b[0;34m)\u001b[0m\u001b[0;34m\u001b[0m\u001b[0;34m\u001b[0m\u001b[0m\n\u001b[1;32m    320\u001b[0m         \u001b[0mself\u001b[0m\u001b[0;34m.\u001b[0m\u001b[0mprepare_cookies\u001b[0m\u001b[0;34m(\u001b[0m\u001b[0mcookies\u001b[0m\u001b[0;34m)\u001b[0m\u001b[0;34m\u001b[0m\u001b[0;34m\u001b[0m\u001b[0m\n",
            "\u001b[0;32m/usr/local/lib/python3.10/dist-packages/requests/models.py\u001b[0m in \u001b[0;36mprepare_url\u001b[0;34m(self, url, params)\u001b[0m\n\u001b[1;32m    390\u001b[0m             \u001b[0merror\u001b[0m \u001b[0;34m=\u001b[0m \u001b[0merror\u001b[0m\u001b[0;34m.\u001b[0m\u001b[0mformat\u001b[0m\u001b[0;34m(\u001b[0m\u001b[0mto_native_string\u001b[0m\u001b[0;34m(\u001b[0m\u001b[0murl\u001b[0m\u001b[0;34m,\u001b[0m \u001b[0;34m'utf8'\u001b[0m\u001b[0;34m)\u001b[0m\u001b[0;34m)\u001b[0m\u001b[0;34m\u001b[0m\u001b[0;34m\u001b[0m\u001b[0m\n\u001b[1;32m    391\u001b[0m \u001b[0;34m\u001b[0m\u001b[0m\n\u001b[0;32m--> 392\u001b[0;31m             \u001b[0;32mraise\u001b[0m \u001b[0mMissingSchema\u001b[0m\u001b[0;34m(\u001b[0m\u001b[0merror\u001b[0m\u001b[0;34m)\u001b[0m\u001b[0;34m\u001b[0m\u001b[0;34m\u001b[0m\u001b[0m\n\u001b[0m\u001b[1;32m    393\u001b[0m \u001b[0;34m\u001b[0m\u001b[0m\n\u001b[1;32m    394\u001b[0m         \u001b[0;32mif\u001b[0m \u001b[0;32mnot\u001b[0m \u001b[0mhost\u001b[0m\u001b[0;34m:\u001b[0m\u001b[0;34m\u001b[0m\u001b[0;34m\u001b[0m\u001b[0m\n",
            "\u001b[0;31mMissingSchema\u001b[0m: Invalid URL '': No scheme supplied. Perhaps you meant http://?"
          ]
        }
      ]
    },
    {
      "cell_type": "markdown",
      "source": [
        "До ошибки проработала 50 минут."
      ],
      "metadata": {
        "id": "p6MRV5DUCYOZ"
      }
    },
    {
      "cell_type": "code",
      "source": [
        "import shutil\n",
        "\n",
        "# Создание архива папки materials_pictures\n",
        "result = shutil.make_archive('materials_pictures_archive', 'zip',\n",
        "                             'materials_pictures')\n",
        "print(f'Архив картинок скачать здесь:\\n{result}')"
      ],
      "metadata": {
        "colab": {
          "base_uri": "https://localhost:8080/"
        },
        "id": "ryq7kytyyT7s",
        "outputId": "0b25d060-ecbe-4609-e382-487d5892904f"
      },
      "execution_count": null,
      "outputs": [
        {
          "output_type": "stream",
          "name": "stdout",
          "text": [
            "Архив картинок скачать здесь:\n",
            "/content/materials_pictures_archive.zip\n"
          ]
        }
      ]
    }
  ]
}