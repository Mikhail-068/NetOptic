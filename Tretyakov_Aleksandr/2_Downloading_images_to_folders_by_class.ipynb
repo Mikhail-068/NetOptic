{
  "nbformat": 4,
  "nbformat_minor": 0,
  "metadata": {
    "colab": {
      "provenance": [],
      "authorship_tag": "ABX9TyN6tnW3eV8Paz1W7txVb1D+",
      "include_colab_link": true
    },
    "kernelspec": {
      "name": "python3",
      "display_name": "Python 3"
    },
    "language_info": {
      "name": "python"
    }
  },
  "cells": [
    {
      "cell_type": "markdown",
      "metadata": {
        "id": "view-in-github",
        "colab_type": "text"
      },
      "source": [
        "<a href=\"https://colab.research.google.com/github/Mikhail-068/NetOptic/blob/master/Tretyakov_Aleksandr/2_Downloading_images_to_folders_by_class.ipynb\" target=\"_parent\"><img src=\"https://colab.research.google.com/assets/colab-badge.svg\" alt=\"Open In Colab\"/></a>"
      ]
    },
    {
      "cell_type": "code",
      "source": [
        "!nproc"
      ],
      "metadata": {
        "id": "BNXBQMpNJ9aS",
        "colab": {
          "base_uri": "https://localhost:8080/"
        },
        "outputId": "2f8662c6-010d-4a9b-c935-d18ca4eaff5b"
      },
      "execution_count": null,
      "outputs": [
        {
          "output_type": "stream",
          "name": "stdout",
          "text": [
            "2\n"
          ]
        }
      ]
    },
    {
      "cell_type": "code",
      "source": [
        "import gdown\n",
        "import os"
      ],
      "metadata": {
        "id": "u78pG0sFhvT9"
      },
      "execution_count": null,
      "outputs": []
    },
    {
      "cell_type": "markdown",
      "source": [
        "# Загрузка датасета"
      ],
      "metadata": {
        "id": "WR5wO1QFKXRD"
      }
    },
    {
      "cell_type": "code",
      "source": [
        "DOWNLOAD_LINK = 'https://drive.google.com/uc?id=1Zphx-ht-2p7nUzAg2PuJoirkHh5FvztHvEupL9VLoNs'\n",
        "base_file_name = 'materials_data.csv'\n",
        "gdown.download(DOWNLOAD_LINK, output=base_file_name)\n",
        "file_path = os.path.join('/content', base_file_name)"
      ],
      "metadata": {
        "id": "Ir4OA_QMKZ2O",
        "colab": {
          "base_uri": "https://localhost:8080/"
        },
        "outputId": "7edb0340-c450-4437-e898-b67001185aea"
      },
      "execution_count": null,
      "outputs": [
        {
          "output_type": "stream",
          "name": "stdout",
          "text": [
            "Access denied with the following error:\n"
          ]
        },
        {
          "output_type": "stream",
          "name": "stderr",
          "text": [
            "\n",
            " \tCannot retrieve the public link of the file. You may need to change\n",
            "\tthe permission to 'Anyone with the link', or have had many accesses. \n",
            "\n",
            "You may still be able to access the file from the browser:\n",
            "\n",
            "\t https://drive.google.com/uc?id=1Zphx-ht-2p7nUzAg2PuJoirkHh5FvztHvEupL9VLoNs \n",
            "\n"
          ]
        }
      ]
    },
    {
      "cell_type": "markdown",
      "source": [
        "## Соберём по каждому классу отдельную папку с изображениями"
      ],
      "metadata": {
        "id": "oNLfhcsaw7Zh"
      }
    },
    {
      "cell_type": "code",
      "source": [
        "import os\n",
        "import pandas as pd\n",
        "import requests\n",
        "import time\n",
        "from concurrent.futures import ThreadPoolExecutor, as_completed\n",
        "from tqdm import tqdm\n",
        "\n",
        "base_file_name = 'materials_data.csv'\n",
        "file_path = os.path.join('content', base_file_name)\n",
        "\n",
        "# Скачивание картинок в ```os.cpu_count() - 1``` потоках\n",
        "# Создание папки materials_pictures, если её ещё нет\n",
        "if not os.path.exists('materials_pictures'):\n",
        "    os.makedirs('materials_pictures')\n",
        "\n",
        "# Создание папок для каждого материала внутри materials_pictures,\n",
        "# если их ещё нет\n",
        "base_df = pd.read_csv(file_path)\n",
        "materials = list(base_df['Материал'].unique())\n",
        "for material in materials:\n",
        "    if not os.path.exists(os.path.join('materials_pictures', material)):\n",
        "        os.makedirs(os.path.join('materials_pictures', material))\n",
        "\n",
        "\n",
        "# Функция для загрузки картинки\n",
        "def download_picture(url, save_path):\n",
        "    try:\n",
        "        response = requests.get(url)\n",
        "    except:\n",
        "        pass\n",
        "    else:\n",
        "        if response.status_code == 200:\n",
        "            with open(save_path, 'wb') as f:\n",
        "                f.write(response.content)\n",
        "        else:\n",
        "            print(f'Ошибка загрузки изображения: {url}')\n",
        "\n",
        "    # Добавление объекта tqdm для отслеживания прогресса загрузки\n",
        "    pbar.update(1)\n",
        "\n",
        "\n",
        "# Проход по строкам DataFrame и скачивание картинок\n",
        "start_time = time.time()\n",
        "with ThreadPoolExecutor(max_workers=os.cpu_count() - 1) as executor:\n",
        "    futures = []\n",
        "    for index, row in base_df.iterrows():\n",
        "        material = row['Материал']\n",
        "        picture_links = row['picture'].split('\\n')\n",
        "        for link in picture_links:\n",
        "            filename = os.path.join('materials_pictures', material, os.path.basename(link)).replace('%20', '_')\n",
        "            futures.append(executor.submit(download_picture, link, filename))\n",
        "\n",
        "    # Инициализация объекта tqdm\n",
        "    with tqdm(total=len(futures)) as pbar:\n",
        "        for future in as_completed(futures):\n",
        "            future.result()\n",
        "\n",
        "# Вывод времени выполнения\n",
        "end_time = time.time()\n",
        "print(f'Время выполнения: {end_time - start_time:.2f} секунд')"
      ],
      "metadata": {
        "id": "F-LQIYiQMoAP"
      },
      "execution_count": null,
      "outputs": []
    },
    {
      "cell_type": "code",
      "source": [
        "import shutil\n",
        "\n",
        "# Создание архива папки materials_pictures\n",
        "result = shutil.make_archive('materials_pictures_archive', 'zip',\n",
        "                             'materials_pictures')\n",
        "print(f'Архив картинок скачать здесь:\\n{result}')"
      ],
      "metadata": {
        "id": "ryq7kytyyT7s"
      },
      "execution_count": null,
      "outputs": []
    }
  ]
}