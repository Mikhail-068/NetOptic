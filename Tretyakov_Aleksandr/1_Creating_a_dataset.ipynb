{
  "nbformat": 4,
  "nbformat_minor": 0,
  "metadata": {
    "colab": {
      "provenance": [],
      "authorship_tag": "ABX9TyOsKCcleFCRteh17xiAwTbg",
      "include_colab_link": true
    },
    "kernelspec": {
      "name": "python3",
      "display_name": "Python 3"
    },
    "language_info": {
      "name": "python"
    }
  },
  "cells": [
    {
      "cell_type": "markdown",
      "metadata": {
        "id": "view-in-github",
        "colab_type": "text"
      },
      "source": [
        "<a href=\"https://colab.research.google.com/github/Mikhail-068/NetOptic/blob/master/Tretyakov_Aleksandr/1_Creating_a_dataset.ipynb\" target=\"_parent\"><img src=\"https://colab.research.google.com/assets/colab-badge.svg\" alt=\"Open In Colab\"/></a>"
      ]
    },
    {
      "cell_type": "code",
      "source": [
        "# Подключение модуля для загрузки данных из облака\n",
        "import gdown\n",
        "# Модуль для работы с файлами операционной системы\n",
        "import os\n",
        "from bs4 import BeautifulSoup\n",
        "# Модуль для вывода данных в читабельном виде\n",
        "from pprint import pprint\n",
        "import pandas as pd\n",
        "import numpy as np"
      ],
      "metadata": {
        "id": "u78pG0sFhvT9"
      },
      "execution_count": null,
      "outputs": []
    },
    {
      "cell_type": "markdown",
      "source": [
        "# Скачивание базы"
      ],
      "metadata": {
        "id": "eBSnOAc7JCT8"
      }
    },
    {
      "cell_type": "markdown",
      "source": [
        "Чтобы постоянно не долбиться на сервер, скачаем базу один раз, сохраним её на диск и потом будем обращаться к файлу."
      ],
      "metadata": {
        "id": "9bV0GTGhI5IL"
      }
    },
    {
      "cell_type": "code",
      "source": [
        "DOWNLOAD_LINKS = {'с сервера': 'https://www.netoptik.ru/yandexmarket.yml',\n",
        "                 'с google.drive': 'https://drive.google.com/uc?id=12Feyswg1yBGfUvJKLvWtV-OIP-HbUqME'\n",
        "                 }\n",
        "DOWNLOADS_METHOD = 'с google.drive'\n",
        "\n",
        "base_file_name = 'yandexmarket.yml'\n",
        "gdown.download(DOWNLOAD_LINKS[DOWNLOADS_METHOD], output=base_file_name)\n",
        "base_path = os.path.join('/content', base_file_name)\n",
        "\n"
      ],
      "metadata": {
        "colab": {
          "base_uri": "https://localhost:8080/"
        },
        "id": "D_hzyJBLuXd0",
        "outputId": "f573fc79-e1e8-4a75-bd37-3b3cf3cc6655"
      },
      "execution_count": null,
      "outputs": [
        {
          "output_type": "stream",
          "name": "stderr",
          "text": [
            "Downloading...\n",
            "From: https://drive.google.com/uc?id=12Feyswg1yBGfUvJKLvWtV-OIP-HbUqME\n",
            "To: /content/yandexmarket.yml\n",
            "100%|██████████| 4.55M/4.55M [00:00<00:00, 96.3MB/s]\n"
          ]
        }
      ]
    },
    {
      "cell_type": "markdown",
      "source": [
        "# Парсинг"
      ],
      "metadata": {
        "id": "CyfQS9vjJGUa"
      }
    },
    {
      "cell_type": "code",
      "source": [
        "!pip install beautifulsoup4==4.12.2 lxml"
      ],
      "metadata": {
        "colab": {
          "base_uri": "https://localhost:8080/"
        },
        "id": "FhJvEXqGB7S0",
        "outputId": "ebad0377-4e0b-4c8e-ae8f-1934fb810303"
      },
      "execution_count": null,
      "outputs": [
        {
          "output_type": "stream",
          "name": "stdout",
          "text": [
            "Looking in indexes: https://pypi.org/simple, https://us-python.pkg.dev/colab-wheels/public/simple/\n",
            "Collecting beautifulsoup4==4.12.2\n",
            "  Downloading beautifulsoup4-4.12.2-py3-none-any.whl (142 kB)\n",
            "\u001b[2K     \u001b[90m━━━━━━━━━━━━━━━━━━━━━━━━━━━━━━━━━━━━━━━\u001b[0m \u001b[32m143.0/143.0 kB\u001b[0m \u001b[31m4.2 MB/s\u001b[0m eta \u001b[36m0:00:00\u001b[0m\n",
            "\u001b[?25hRequirement already satisfied: lxml in /usr/local/lib/python3.10/dist-packages (4.9.2)\n",
            "Requirement already satisfied: soupsieve>1.2 in /usr/local/lib/python3.10/dist-packages (from beautifulsoup4==4.12.2) (2.4.1)\n",
            "Installing collected packages: beautifulsoup4\n",
            "  Attempting uninstall: beautifulsoup4\n",
            "    Found existing installation: beautifulsoup4 4.11.2\n",
            "    Uninstalling beautifulsoup4-4.11.2:\n",
            "      Successfully uninstalled beautifulsoup4-4.11.2\n",
            "Successfully installed beautifulsoup4-4.12.2\n"
          ]
        }
      ]
    },
    {
      "cell_type": "code",
      "execution_count": null,
      "metadata": {
        "id": "UkXr9waY_5CQ"
      },
      "outputs": [],
      "source": [
        "# читаем файл\n",
        "with open(base_path, 'r') as file:\n",
        "    xml_file = file.read()"
      ]
    },
    {
      "cell_type": "code",
      "source": [
        "# Получаем объект bs\n",
        "soup = BeautifulSoup(xml_file, 'lxml')\n",
        "offers = soup.findAll(\"offer\")"
      ],
      "metadata": {
        "colab": {
          "base_uri": "https://localhost:8080/"
        },
        "id": "cJyhCAdBamrF",
        "outputId": "e064fcee-7302-442a-efcc-705ac0942509"
      },
      "execution_count": null,
      "outputs": [
        {
          "output_type": "stream",
          "name": "stderr",
          "text": [
            "/usr/local/lib/python3.10/dist-packages/bs4/builder/__init__.py:545: XMLParsedAsHTMLWarning: It looks like you're parsing an XML document using an HTML parser. If this really is an HTML document (maybe it's XHTML?), you can ignore or filter this warning. If it's XML, you should know that using an XML parser will be more reliable. To parse this document as XML, make sure you have the lxml package installed, and pass the keyword argument `features=\"xml\"` into the BeautifulSoup constructor.\n",
            "  warnings.warn(\n"
          ]
        }
      ]
    },
    {
      "cell_type": "markdown",
      "source": [
        "## Эксперименты с парсером"
      ],
      "metadata": {
        "id": "tkNpVveHap1g"
      }
    },
    {
      "cell_type": "code",
      "source": [
        "# Номер ордера, который мы ходим посмотреть\n",
        "OFFER_NUM = 12\n",
        "one_offer = offers[OFFER_NUM]\n",
        "print(one_offer)"
      ],
      "metadata": {
        "colab": {
          "base_uri": "https://localhost:8080/"
        },
        "id": "YQkD72EYIflW",
        "outputId": "ea8b0121-160e-495d-a43f-231751d61129"
      },
      "execution_count": null,
      "outputs": [
        {
          "output_type": "stream",
          "name": "stdout",
          "text": [
            "<offer id=\"11795\">\n",
            "<categoryid>177</categoryid>\n",
            "<name>Оправа Gucci, GG 1006, 4GX</name>\n",
            "<url>https://www.netoptik.ru/frames/men-frames/oprava-gucci-gg1006-4gx</url>\n",
            "<price>7500</price>\n",
            "<currencyid>RUB</currencyid>\n",
            "<vendor>GUCCI</vendor>\n",
            "<model>Оправа Gucci, GG 1006, 4GX</model>\n",
            "<picture>https://www.netoptik.ru/image/cache/catalog/Gucci%20(ЮД)/gucci-gg1006-4gx-s2-1%20(2)-600x600.jpg</picture>\n",
            "<picture>https://www.netoptik.ru/image/cache/catalog/Gucci%20(ЮД)/gucci-gg1006-4gx-s2-2%20(1)-600x600.jpg</picture>\n",
            "<picture>https://www.netoptik.ru/image/cache/catalog/Gucci%20(ЮД)/gucci-gg1006-4gx-s2-3%20(3)-600x600.jpg</picture>\n",
            "<param name=\"Категория\"/>Мужские оправы для очков\n",
            "<param name=\"Ширина оправы (мм)\"/>135\n",
            "<param name=\"Ширина линзы (мм)\"/>54\n",
            "<param name=\"Высота линзы (мм)\"/>36\n",
            "<param name=\"Мост (мм)\"/>16\n",
            "<param name=\"Длина заушника (мм)\"/>140\n",
            "<param name=\"Материал \"/>Комбинированный\n",
            "<param name=\"Стиль\"/>Мужские\n",
            "<param name=\"Строение оправы\"/>Ободковая\n",
            "<param name=\"Цвет оправы\"/>Черепаховый\n",
            "<param name=\"Форма очков\"/>Прямоугольные\n",
            "        <quantity>100</quantity>\n",
            "</offer>\n"
          ]
        }
      ]
    },
    {
      "cell_type": "code",
      "source": [
        "# Посмотрим названия всех доступных параметров\n",
        "for param in one_offer.select('param'):\n",
        "    print(param.attrs['name'])"
      ],
      "metadata": {
        "colab": {
          "base_uri": "https://localhost:8080/"
        },
        "id": "vV1nPNPeZJU8",
        "outputId": "1656dba0-1830-42cd-faae-25c560554324"
      },
      "execution_count": null,
      "outputs": [
        {
          "output_type": "stream",
          "name": "stdout",
          "text": [
            "Категория\n",
            "Ширина оправы (мм)\n",
            "Ширина линзы (мм)\n",
            "Высота линзы (мм)\n",
            "Мост (мм)\n",
            "Длина заушника (мм)\n",
            "Материал \n",
            "Стиль\n",
            "Строение оправы\n",
            "Цвет оправы\n",
            "Форма очков\n"
          ]
        }
      ]
    },
    {
      "cell_type": "markdown",
      "source": [
        "## Парсим базу"
      ],
      "metadata": {
        "id": "6ZipPS3AavZQ"
      }
    },
    {
      "cell_type": "code",
      "source": [
        "# Зададим список данных (тэгов), которые нам нужны\n",
        "TAGS_LIST = ['name', 'picture']\n",
        "# Зададим список параметров, которые нам нужны\n",
        "PARAMS_LIST = ['Категория', 'Материал']"
      ],
      "metadata": {
        "id": "9eb2btElZnAq"
      },
      "execution_count": null,
      "outputs": []
    },
    {
      "cell_type": "code",
      "source": [
        "data_list = []\n",
        "\n",
        "for offer in offers:\n",
        "    new_line = {}\n",
        "\n",
        "    # Добавляем значения нужных нам тэгов\n",
        "    for tag in TAGS_LIST:\n",
        "        new_line[tag] = offer.find(tag).getText()\n",
        "\n",
        "        if tag == 'picture':\n",
        "            result = []\n",
        "            for pic in offer.find_all(tag):\n",
        "                result.append(pic.getText())\n",
        "            new_line[tag] = '\\n'.join(result)\n",
        "\n",
        "\n",
        "    # Добавляем значения нужных нам параметров\n",
        "    for needed_param in PARAMS_LIST:\n",
        "        for param in offer.find_all('param'):\n",
        "            if needed_param in param.attrs['name'].strip():\n",
        "                new_line[needed_param] = param.next_element.replace('\\n', '').strip()\n",
        "\n",
        "    # добавляем данные в список data_list\n",
        "    data_list.append(new_line)"
      ],
      "metadata": {
        "id": "EfgpsmXIbcpn"
      },
      "execution_count": null,
      "outputs": []
    },
    {
      "cell_type": "code",
      "source": [
        "# Добавляем данные в датафрейм\n",
        "base_df = pd.DataFrame(data_list)"
      ],
      "metadata": {
        "id": "EqBZ2nX2v097"
      },
      "execution_count": null,
      "outputs": []
    },
    {
      "cell_type": "code",
      "source": [
        "display(base_df)"
      ],
      "metadata": {
        "colab": {
          "base_uri": "https://localhost:8080/",
          "height": 424
        },
        "id": "IAt2beNMsXkI",
        "outputId": "b0b6b15e-e279-4b39-da24-0916271ca556"
      },
      "execution_count": null,
      "outputs": [
        {
          "output_type": "display_data",
          "data": {
            "text/plain": [
              "                                       name  \\\n",
              "0          Оправа Balenciaga, BAL 0108, 8O0   \n",
              "1          Оправа Boss Orange, BO 0329, YZ4   \n",
              "2     Оправа Boss Hugo Boss, BOSS 1312, 003   \n",
              "3     Оправа Boss Hugo Boss, BOSS 1246, CNI   \n",
              "4              Оправа Carrera, CA 6660, VBP   \n",
              "...                                     ...   \n",
              "2448               Оправа FILOS, FF1300, 04   \n",
              "2449               Оправа FILOS, FF1300, 05   \n",
              "2450               Оправа FILOS, FF1303, 03   \n",
              "2451               Оправа FILOS, FF1303, 01   \n",
              "2452               Оправа FILOS, FF1303, 07   \n",
              "\n",
              "                                                picture  \\\n",
              "0     https://www.netoptik.ru/image/cache/data/med_o...   \n",
              "1     https://www.netoptik.ru/image/cache/catalog/Bo...   \n",
              "2     https://www.netoptik.ru/image/cache/catalog/Bo...   \n",
              "3     https://www.netoptik.ru/image/cache/catalog/Bo...   \n",
              "4     https://www.netoptik.ru/image/cache/data/carre...   \n",
              "...                                                 ...   \n",
              "2448  https://www.netoptik.ru/image/cache/catalog/FI...   \n",
              "2449  https://www.netoptik.ru/image/cache/catalog/FI...   \n",
              "2450  https://www.netoptik.ru/image/cache/catalog/FI...   \n",
              "2451  https://www.netoptik.ru/image/cache/catalog/FI...   \n",
              "2452  https://www.netoptik.ru/image/cache/catalog/FI...   \n",
              "\n",
              "                     Категория         Материал  \n",
              "0             Оправы для очков  комбинированный  \n",
              "1     Мужские оправы для очков           Металл  \n",
              "2             Оправы для очков  Комбинированный  \n",
              "3             Оправы для очков           Металл  \n",
              "4     Женские оправы для очков           металл  \n",
              "...                        ...              ...  \n",
              "2448                       NaN           Металл  \n",
              "2449                       NaN           Металл  \n",
              "2450                       NaN           Металл  \n",
              "2451                       NaN           Металл  \n",
              "2452                       NaN           Металл  \n",
              "\n",
              "[2453 rows x 4 columns]"
            ],
            "text/html": [
              "\n",
              "  <div id=\"df-1c224548-ce0c-4cc7-8e66-5cb4e52d0eb5\">\n",
              "    <div class=\"colab-df-container\">\n",
              "      <div>\n",
              "<style scoped>\n",
              "    .dataframe tbody tr th:only-of-type {\n",
              "        vertical-align: middle;\n",
              "    }\n",
              "\n",
              "    .dataframe tbody tr th {\n",
              "        vertical-align: top;\n",
              "    }\n",
              "\n",
              "    .dataframe thead th {\n",
              "        text-align: right;\n",
              "    }\n",
              "</style>\n",
              "<table border=\"1\" class=\"dataframe\">\n",
              "  <thead>\n",
              "    <tr style=\"text-align: right;\">\n",
              "      <th></th>\n",
              "      <th>name</th>\n",
              "      <th>picture</th>\n",
              "      <th>Категория</th>\n",
              "      <th>Материал</th>\n",
              "    </tr>\n",
              "  </thead>\n",
              "  <tbody>\n",
              "    <tr>\n",
              "      <th>0</th>\n",
              "      <td>Оправа Balenciaga, BAL 0108, 8O0</td>\n",
              "      <td>https://www.netoptik.ru/image/cache/data/med_o...</td>\n",
              "      <td>Оправы для очков</td>\n",
              "      <td>комбинированный</td>\n",
              "    </tr>\n",
              "    <tr>\n",
              "      <th>1</th>\n",
              "      <td>Оправа Boss Orange, BO 0329, YZ4</td>\n",
              "      <td>https://www.netoptik.ru/image/cache/catalog/Bo...</td>\n",
              "      <td>Мужские оправы для очков</td>\n",
              "      <td>Металл</td>\n",
              "    </tr>\n",
              "    <tr>\n",
              "      <th>2</th>\n",
              "      <td>Оправа Boss Hugo Boss, BOSS 1312, 003</td>\n",
              "      <td>https://www.netoptik.ru/image/cache/catalog/Bo...</td>\n",
              "      <td>Оправы для очков</td>\n",
              "      <td>Комбинированный</td>\n",
              "    </tr>\n",
              "    <tr>\n",
              "      <th>3</th>\n",
              "      <td>Оправа Boss Hugo Boss, BOSS 1246, CNI</td>\n",
              "      <td>https://www.netoptik.ru/image/cache/catalog/Bo...</td>\n",
              "      <td>Оправы для очков</td>\n",
              "      <td>Металл</td>\n",
              "    </tr>\n",
              "    <tr>\n",
              "      <th>4</th>\n",
              "      <td>Оправа Carrera, CA 6660, VBP</td>\n",
              "      <td>https://www.netoptik.ru/image/cache/data/carre...</td>\n",
              "      <td>Женские оправы для очков</td>\n",
              "      <td>металл</td>\n",
              "    </tr>\n",
              "    <tr>\n",
              "      <th>...</th>\n",
              "      <td>...</td>\n",
              "      <td>...</td>\n",
              "      <td>...</td>\n",
              "      <td>...</td>\n",
              "    </tr>\n",
              "    <tr>\n",
              "      <th>2448</th>\n",
              "      <td>Оправа FILOS, FF1300, 04</td>\n",
              "      <td>https://www.netoptik.ru/image/cache/catalog/FI...</td>\n",
              "      <td>NaN</td>\n",
              "      <td>Металл</td>\n",
              "    </tr>\n",
              "    <tr>\n",
              "      <th>2449</th>\n",
              "      <td>Оправа FILOS, FF1300, 05</td>\n",
              "      <td>https://www.netoptik.ru/image/cache/catalog/FI...</td>\n",
              "      <td>NaN</td>\n",
              "      <td>Металл</td>\n",
              "    </tr>\n",
              "    <tr>\n",
              "      <th>2450</th>\n",
              "      <td>Оправа FILOS, FF1303, 03</td>\n",
              "      <td>https://www.netoptik.ru/image/cache/catalog/FI...</td>\n",
              "      <td>NaN</td>\n",
              "      <td>Металл</td>\n",
              "    </tr>\n",
              "    <tr>\n",
              "      <th>2451</th>\n",
              "      <td>Оправа FILOS, FF1303, 01</td>\n",
              "      <td>https://www.netoptik.ru/image/cache/catalog/FI...</td>\n",
              "      <td>NaN</td>\n",
              "      <td>Металл</td>\n",
              "    </tr>\n",
              "    <tr>\n",
              "      <th>2452</th>\n",
              "      <td>Оправа FILOS, FF1303, 07</td>\n",
              "      <td>https://www.netoptik.ru/image/cache/catalog/FI...</td>\n",
              "      <td>NaN</td>\n",
              "      <td>Металл</td>\n",
              "    </tr>\n",
              "  </tbody>\n",
              "</table>\n",
              "<p>2453 rows × 4 columns</p>\n",
              "</div>\n",
              "      <button class=\"colab-df-convert\" onclick=\"convertToInteractive('df-1c224548-ce0c-4cc7-8e66-5cb4e52d0eb5')\"\n",
              "              title=\"Convert this dataframe to an interactive table.\"\n",
              "              style=\"display:none;\">\n",
              "        \n",
              "  <svg xmlns=\"http://www.w3.org/2000/svg\" height=\"24px\"viewBox=\"0 0 24 24\"\n",
              "       width=\"24px\">\n",
              "    <path d=\"M0 0h24v24H0V0z\" fill=\"none\"/>\n",
              "    <path d=\"M18.56 5.44l.94 2.06.94-2.06 2.06-.94-2.06-.94-.94-2.06-.94 2.06-2.06.94zm-11 1L8.5 8.5l.94-2.06 2.06-.94-2.06-.94L8.5 2.5l-.94 2.06-2.06.94zm10 10l.94 2.06.94-2.06 2.06-.94-2.06-.94-.94-2.06-.94 2.06-2.06.94z\"/><path d=\"M17.41 7.96l-1.37-1.37c-.4-.4-.92-.59-1.43-.59-.52 0-1.04.2-1.43.59L10.3 9.45l-7.72 7.72c-.78.78-.78 2.05 0 2.83L4 21.41c.39.39.9.59 1.41.59.51 0 1.02-.2 1.41-.59l7.78-7.78 2.81-2.81c.8-.78.8-2.07 0-2.86zM5.41 20L4 18.59l7.72-7.72 1.47 1.35L5.41 20z\"/>\n",
              "  </svg>\n",
              "      </button>\n",
              "      \n",
              "  <style>\n",
              "    .colab-df-container {\n",
              "      display:flex;\n",
              "      flex-wrap:wrap;\n",
              "      gap: 12px;\n",
              "    }\n",
              "\n",
              "    .colab-df-convert {\n",
              "      background-color: #E8F0FE;\n",
              "      border: none;\n",
              "      border-radius: 50%;\n",
              "      cursor: pointer;\n",
              "      display: none;\n",
              "      fill: #1967D2;\n",
              "      height: 32px;\n",
              "      padding: 0 0 0 0;\n",
              "      width: 32px;\n",
              "    }\n",
              "\n",
              "    .colab-df-convert:hover {\n",
              "      background-color: #E2EBFA;\n",
              "      box-shadow: 0px 1px 2px rgba(60, 64, 67, 0.3), 0px 1px 3px 1px rgba(60, 64, 67, 0.15);\n",
              "      fill: #174EA6;\n",
              "    }\n",
              "\n",
              "    [theme=dark] .colab-df-convert {\n",
              "      background-color: #3B4455;\n",
              "      fill: #D2E3FC;\n",
              "    }\n",
              "\n",
              "    [theme=dark] .colab-df-convert:hover {\n",
              "      background-color: #434B5C;\n",
              "      box-shadow: 0px 1px 3px 1px rgba(0, 0, 0, 0.15);\n",
              "      filter: drop-shadow(0px 1px 2px rgba(0, 0, 0, 0.3));\n",
              "      fill: #FFFFFF;\n",
              "    }\n",
              "  </style>\n",
              "\n",
              "      <script>\n",
              "        const buttonEl =\n",
              "          document.querySelector('#df-1c224548-ce0c-4cc7-8e66-5cb4e52d0eb5 button.colab-df-convert');\n",
              "        buttonEl.style.display =\n",
              "          google.colab.kernel.accessAllowed ? 'block' : 'none';\n",
              "\n",
              "        async function convertToInteractive(key) {\n",
              "          const element = document.querySelector('#df-1c224548-ce0c-4cc7-8e66-5cb4e52d0eb5');\n",
              "          const dataTable =\n",
              "            await google.colab.kernel.invokeFunction('convertToInteractive',\n",
              "                                                     [key], {});\n",
              "          if (!dataTable) return;\n",
              "\n",
              "          const docLinkHtml = 'Like what you see? Visit the ' +\n",
              "            '<a target=\"_blank\" href=https://colab.research.google.com/notebooks/data_table.ipynb>data table notebook</a>'\n",
              "            + ' to learn more about interactive tables.';\n",
              "          element.innerHTML = '';\n",
              "          dataTable['output_type'] = 'display_data';\n",
              "          await google.colab.output.renderOutput(dataTable, element);\n",
              "          const docLink = document.createElement('div');\n",
              "          docLink.innerHTML = docLinkHtml;\n",
              "          element.appendChild(docLink);\n",
              "        }\n",
              "      </script>\n",
              "    </div>\n",
              "  </div>\n",
              "  "
            ]
          },
          "metadata": {}
        }
      ]
    },
    {
      "cell_type": "code",
      "source": [
        "def show_unique_values(column, lower=False):\n",
        "    \"\"\"\n",
        "    Функция показывает все возможные значения из заданной колонки.\n",
        "    :param column: Название колонки.\n",
        "    :param lower: Приводить ли значения к нижнему регистру.\n",
        "    :return: none\n",
        "    \"\"\"\n",
        "#    unique_values = base_df['Категория'].fillna('нет данных').unique()\n",
        "    if lower:\n",
        "        print(base_df[column].fillna('нет данных').str.lower().value_counts().sort_index())\n",
        "    else:\n",
        "        print(base_df[column].fillna('нет данных').value_counts().sort_index())\n"
      ],
      "metadata": {
        "id": "OxWxhSeKwb8-"
      },
      "execution_count": null,
      "outputs": []
    },
    {
      "cell_type": "markdown",
      "source": [
        "### Посмотрим на значения в колонке \"Материал\""
      ],
      "metadata": {
        "id": "76rIi6l9zVvJ"
      }
    },
    {
      "cell_type": "code",
      "source": [
        "show_unique_values(column='Материал', lower=False)\n",
        "print('='*30)\n",
        "show_unique_values(column='Материал', lower=True)"
      ],
      "metadata": {
        "colab": {
          "base_uri": "https://localhost:8080/"
        },
        "id": "RTlnm_xkwfYR",
        "outputId": "c65b1a51-642e-4987-fb95-ed1cfb04f758"
      },
      "execution_count": null,
      "outputs": [
        {
          "output_type": "stream",
          "name": "stdout",
          "text": [
            "Silflex                    8\n",
            "Комбинированные            5\n",
            "Комбинированный          417\n",
            "Металл                   317\n",
            "Пластик                  965\n",
            "Пластик, ударопрочный      1\n",
            "Поликарбонат              23\n",
            "Силикон                   71\n",
            "Стекло                     1\n",
            "Титан                     65\n",
            "Трайвекс                   5\n",
            "комбинированный          207\n",
            "металл                   112\n",
            "нет данных                19\n",
            "пластик                  210\n",
            "силикон                   24\n",
            "титан                      3\n",
            "Name: Материал, dtype: int64\n",
            "==============================\n",
            "silflex                     8\n",
            "комбинированные             5\n",
            "комбинированный           624\n",
            "металл                    429\n",
            "нет данных                 19\n",
            "пластик                  1175\n",
            "пластик, ударопрочный       1\n",
            "поликарбонат               23\n",
            "силикон                    95\n",
            "стекло                      1\n",
            "титан                      68\n",
            "трайвекс                    5\n",
            "Name: Материал, dtype: int64\n"
          ]
        }
      ]
    },
    {
      "cell_type": "markdown",
      "source": [
        "# Причешем данные"
      ],
      "metadata": {
        "id": "XiQ_XBr6oBQQ"
      }
    },
    {
      "cell_type": "markdown",
      "source": [
        "## Обрабатываем колонку \"name\""
      ],
      "metadata": {
        "id": "PDlEcAUn3QPi"
      }
    },
    {
      "cell_type": "code",
      "source": [
        "def processing_name():\n",
        "    \"\"\"\n",
        "    Функция удаляет из колонки 'name' ненужные нам позиции.\n",
        "    :return: none\n",
        "    \"\"\"\n",
        "    global base_df\n",
        "\n",
        "    # Список удаляемых значений\n",
        "    delete_list = ['линза', 'Линза', 'Pensne', 'Горнолыжная']\n",
        "\n",
        "    # создаем маску на основе поиска подстроки\n",
        "    mask = base_df['name'].str.contains('|'.join(delete_list))\n",
        "\n",
        "    # удаляем строки, где значение в столбце 'name' содержит хотя бы\n",
        "    # одно значение из списка delete_list\n",
        "    base_df = base_df[~mask]"
      ],
      "metadata": {
        "id": "abb_tT2C3Qdw"
      },
      "execution_count": null,
      "outputs": []
    },
    {
      "cell_type": "code",
      "source": [
        "processing_name()"
      ],
      "metadata": {
        "id": "_OPonI38-dlP"
      },
      "execution_count": null,
      "outputs": []
    },
    {
      "cell_type": "markdown",
      "source": [
        "## Обрабатываем колонку \"Категория\""
      ],
      "metadata": {
        "id": "QvFkh5RV_iXa"
      }
    },
    {
      "cell_type": "markdown",
      "source": [
        "### Посмотрим на значения в колонке 'Категория'\n",
        "\n"
      ],
      "metadata": {
        "id": "by75CCGNzawk"
      }
    },
    {
      "cell_type": "code",
      "source": [
        "show_unique_values(column='Категория', lower=False)"
      ],
      "metadata": {
        "colab": {
          "base_uri": "https://localhost:8080/"
        },
        "id": "Tm249_SlzkEf",
        "outputId": "588770e2-f6af-430e-8f83-58c0cac14ccc"
      },
      "execution_count": null,
      "outputs": [
        {
          "output_type": "stream",
          "name": "stdout",
          "text": [
            "Аксессуары                    1\n",
            "Водительские очки             4\n",
            "Готовые очки                  2\n",
            "Детские                     153\n",
            "Детские очки                  2\n",
            "Детский                       1\n",
            "Женские оправы для очков    199\n",
            "Женские очки                 96\n",
            "Женскиеоправы для очков       1\n",
            "Женский                       1\n",
            "Компьютерные очки             6\n",
            "Линзы для очков               1\n",
            "Мужские оправы для очков    100\n",
            "Мужские очки                 42\n",
            "Мужскиеоправы для очков       1\n",
            "Оправы                        1\n",
            "Оправы для очков            368\n",
            "Оправы оправы для очков       1\n",
            "Очки для плавания             2\n",
            "Очки на очки                  5\n",
            "Очки спецназначения           3\n",
            "Очки тренажеры                2\n",
            "Пенсне                        3\n",
            "Половинки для чтения          1\n",
            "Солнцезащитные очки         122\n",
            "Спецназначения                2\n",
            "Спортивные                    1\n",
            "Спортивные очки               6\n",
            "Унисекс                       8\n",
            "женские очки                  1\n",
            "нет данных                  731\n",
            "Name: Категория, dtype: int64\n"
          ]
        }
      ]
    },
    {
      "cell_type": "code",
      "source": [
        "def processing_category():\n",
        "    \"\"\"\n",
        "    Функция приводит значения из колонки \"Категория\" к однообразию, удаляет ненужные\n",
        "    строки, делает необходимые переименования.\n",
        "    :return: none\n",
        "    \"\"\"\n",
        "    global base_df\n",
        "\n",
        "    # nan заменим на 'нет данных'\n",
        "    base_df['Категория'] = base_df['Категория'].fillna('нет данных')\n",
        "\n",
        "    # Удалим ненужные данные\n",
        "    delete_list = ['Аксессуары', 'Водительские очки', 'Бифокальные линзы',\n",
        "                    'Компьютерные линзы','Линзы для детей','Линзы для очков',\n",
        "                    'Линзы с поддержкой аккомадации','Однофокальные линзы',\n",
        "                    'Офисные линзы','Прогрессивные линзы','Фотохромные линзы',\n",
        "                    'Пенсне', 'Очки тренажеры', 'SALE', 'Лентикуляры для высоких диоптрий',\n",
        "                'Очки для плавания']\n",
        "\n",
        "    # удаляем строки, у которых значение в столбце \"Категория\" равно\n",
        "    # значению из списка delete_list\n",
        "    base_df = base_df[~base_df['Категория'].isin(delete_list)]\n",
        "\n",
        "    # Словарь переименований\n",
        "    replace_dict = {\n",
        "        #'аксессуары': ['Аксессуары'],\n",
        "        'бифокальные линзы': ['Бифокальные линзы'],\n",
        "        'водительские очки': ['Водительские очки'],\n",
        "        'готовые очки': ['Готовые очки'],\n",
        "        'детские очки': ['Детские очки', 'Детские', 'Детский'],\n",
        "        'женские оправы для очков': ['Женские оправы для очков', 'Женскиеоправы для очков'],\n",
        "        'женские очки': ['Женские очки', 'Женский', 'женские очки'],\n",
        "        'компьютерные линзы': ['Компьютерные линзы'],\n",
        "        'компьютерные очки': ['Компьютерные очки'],\n",
        "        'лентикуляры для высоких диоптрий': ['Лентикуляры для высоких диоптрий'],\n",
        "        'линзы для детей': ['Линзы для детей'],\n",
        "        'линзы для очков': ['Линзы для очков'],\n",
        "        'линзы с поддержкой аккомадации': ['Линзы с поддержкой аккомадации'],\n",
        "        'мужские очки': ['Мужские очки'],\n",
        "        'мужские оправы для очков': ['Мужские оправы для очков', 'Мужскиеоправы для очков'],\n",
        "        'однофокальные линзы': ['Однофокальные линзы'],\n",
        "        'оправы для очков': ['Оправы для очков', 'Оправы', 'Оправы оправы для очков'],\n",
        "        'офисные линзы': ['Офисные линзы'],\n",
        "        'очки для плавания': ['Очки для плавания'],\n",
        "        'очки на очки': ['Очки на очки'],\n",
        "        'очки спецназначения': ['Очки спецназначения', 'Спецназначения'],\n",
        "        'очки тренажеры': ['Очки тренажеры'],\n",
        "        'пенсне': ['Пенсне'],\n",
        "        'половинки для чтения': ['Половинки для чтения'],\n",
        "        'прогрессивные линзы': ['Прогрессивные линзы'],\n",
        "        'cолнцезащитные очки': ['Солнцезащитные очки'],\n",
        "        'спортивные очки': ['Спортивные очки', 'Спортивные'],\n",
        "        'унисекс': ['Унисекс'],\n",
        "        'фотохромные линзы': ['Фотохромные линзы']\n",
        "        }\n",
        "\n",
        "    # заменяем значения в столбце \"Категория\" по словарю replace_dict\n",
        "    for key, values in replace_dict.items():\n",
        "        base_df.loc[base_df['Категория'].isin(values), 'Категория'] = key\n",
        "\n",
        "    # Обработка позиций, у которых не указана категория\n",
        "\n",
        "\n",
        "    # Вывод результата\n",
        "    show_unique_values(column='Категория')"
      ],
      "metadata": {
        "id": "0blkggqc35ze"
      },
      "execution_count": null,
      "outputs": []
    },
    {
      "cell_type": "code",
      "source": [
        "processing_category()"
      ],
      "metadata": {
        "colab": {
          "base_uri": "https://localhost:8080/"
        },
        "id": "xQxbUpC38O2-",
        "outputId": "85b7f85f-f008-4bb6-c865-f9caee73360c"
      },
      "execution_count": null,
      "outputs": [
        {
          "output_type": "stream",
          "name": "stdout",
          "text": [
            "cолнцезащитные очки         122\n",
            "готовые очки                  2\n",
            "детские очки                156\n",
            "женские оправы для очков    200\n",
            "женские очки                 98\n",
            "компьютерные очки             6\n",
            "мужские оправы для очков    101\n",
            "мужские очки                 42\n",
            "нет данных                  731\n",
            "оправы для очков            370\n",
            "очки на очки                  5\n",
            "очки спецназначения           5\n",
            "половинки для чтения          1\n",
            "спортивные очки               7\n",
            "унисекс                       8\n",
            "Name: Категория, dtype: int64\n"
          ]
        }
      ]
    },
    {
      "cell_type": "markdown",
      "source": [
        "## Обрабатываем колонку \"Материал\""
      ],
      "metadata": {
        "id": "eem_xvbx3Pjk"
      }
    },
    {
      "cell_type": "code",
      "source": [
        "def processing_materials():\n",
        "    \"\"\"\n",
        "    Функция приводит значения из колонки 'Материал' к однообразию, удаляет ненужные\n",
        "    строки, делает необходимые переименования.\n",
        "    :return: none\n",
        "    \"\"\"\n",
        "    global base_df\n",
        "\n",
        "    # nan заменим на 'нет данных'\n",
        "    base_df['Материал'] = base_df['Материал'].fillna('нет данных')\n",
        "\n",
        "    # Удалим ненужные данные\n",
        "    delete_list = ['Silflex', 'Пластик, ударопрочный', 'Поликарбонат',\n",
        "                   'Силикон', 'силикон', 'Стекло', 'титан', 'Титан',\n",
        "                   'Трайвекс']\n",
        "\n",
        "    # удаляем строки, у которых значение в столбце 'Материал' равно\n",
        "    # значению из списка delete_list\n",
        "    base_df = base_df[~base_df['Материал'].isin(delete_list)]\n",
        "\n",
        "    # Словарь переименований\n",
        "    replace_dict = {\n",
        "        'комбинированный': ['Комбинированные', 'Комбинированный'],\n",
        "        'металл': ['Металл'],\n",
        "        'пластик': ['Пластик']\n",
        "        #'silflex': ['Silflex'],\n",
        "        #'поликарбонат': ['Поликарбонат'],\n",
        "        #'силикон': ['Силикон'],\n",
        "        #'стекло': ['Стекло'],\n",
        "        #'титан': ['Титан'],\n",
        "        #'трайвекс': ['Трайвекс']\n",
        "        }\n",
        "\n",
        "    # заменяем значения в столбце 'Материал' по словарю replace_dict\n",
        "    for key, values in replace_dict.items():\n",
        "        base_df.loc[base_df['Материал'].isin(values), 'Материал'] = key\n",
        "\n",
        "    # Обработка позиций, у которых не указан материал\n",
        "    # Создаем маску для поиска значений\n",
        "    mask = base_df['name'].isin(['Оправа Giorgio Armani, GA 890, XZW',\n",
        "                                'Оправа Giorgio Armani, GA 941, 086',\n",
        "                                'Оправа Gucci, GG 3825 KCL',\n",
        "                                'Оправа Juicy Couture, SPLASHBACK V05'])\n",
        "\n",
        "    # Заменяем значения в столбце 'Материал' на 'пластик' для\n",
        "    # соответствующих значений в столбце 'name'\n",
        "    base_df.loc[mask, 'Материал'] = 'пластик'\n",
        "\n",
        "\n",
        "    # Вывод результата\n",
        "    show_unique_values(column='Материал')"
      ],
      "metadata": {
        "id": "AAkLCSKQuONz"
      },
      "execution_count": null,
      "outputs": []
    },
    {
      "cell_type": "code",
      "source": [
        "processing_materials()"
      ],
      "metadata": {
        "colab": {
          "base_uri": "https://localhost:8080/"
        },
        "id": "fISFECRv2SNf",
        "outputId": "b6d1056b-62be-47f1-de8a-1178b68223e5"
      },
      "execution_count": null,
      "outputs": [
        {
          "output_type": "stream",
          "name": "stdout",
          "text": [
            "комбинированный    626\n",
            "металл             419\n",
            "пластик            637\n",
            "Name: Материал, dtype: int64\n"
          ]
        },
        {
          "output_type": "stream",
          "name": "stderr",
          "text": [
            "<ipython-input-19-64628e69bd57>:36: SettingWithCopyWarning: \n",
            "A value is trying to be set on a copy of a slice from a DataFrame\n",
            "\n",
            "See the caveats in the documentation: https://pandas.pydata.org/pandas-docs/stable/user_guide/indexing.html#returning-a-view-versus-a-copy\n",
            "  base_df.loc[base_df['Материал'].isin(values), 'Материал'] = key\n",
            "<ipython-input-19-64628e69bd57>:47: SettingWithCopyWarning: \n",
            "A value is trying to be set on a copy of a slice from a DataFrame\n",
            "\n",
            "See the caveats in the documentation: https://pandas.pydata.org/pandas-docs/stable/user_guide/indexing.html#returning-a-view-versus-a-copy\n",
            "  base_df.loc[mask, 'Материал'] = 'пластик'\n"
          ]
        }
      ]
    },
    {
      "cell_type": "markdown",
      "source": [
        "# Сохранение датасета в файл"
      ],
      "metadata": {
        "id": "UICoTdFG1kgk"
      }
    },
    {
      "cell_type": "code",
      "source": [
        "# Сохраним данные в файл формата csv\n",
        "base_df.to_csv('materials_data.csv', index=False)"
      ],
      "metadata": {
        "id": "YTuKK52Rw3w4"
      },
      "execution_count": null,
      "outputs": []
    }
  ]
}