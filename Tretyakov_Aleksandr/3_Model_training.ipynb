{
  "nbformat": 4,
  "nbformat_minor": 0,
  "metadata": {
    "colab": {
      "provenance": [],
      "gpuType": "T4",
      "include_colab_link": true
    },
    "kernelspec": {
      "name": "python3",
      "display_name": "Python 3"
    },
    "language_info": {
      "name": "python"
    },
    "accelerator": "GPU"
  },
  "cells": [
    {
      "cell_type": "markdown",
      "metadata": {
        "id": "view-in-github",
        "colab_type": "text"
      },
      "source": [
        "<a href=\"https://colab.research.google.com/github/Mikhail-068/NetOptic/blob/master/Tretyakov_Aleksandr/3_Model_training.ipynb\" target=\"_parent\"><img src=\"https://colab.research.google.com/assets/colab-badge.svg\" alt=\"Open In Colab\"/></a>"
      ]
    },
    {
      "cell_type": "markdown",
      "source": [
        "\n",
        "\n",
        "1. На основе имеющегося датасета с изображениями очков из различных материалов загрузим выборки с использованием генератора.\n",
        "2. Проведём аугментацию про помощи Imagedatagenerator.\n",
        "3. Найдём наилучшую модель при помощи библиотеки AutoKeras и KerasTuner."
      ],
      "metadata": {
        "id": "tHh6NAgBSgbc"
      }
    },
    {
      "cell_type": "code",
      "source": [
        "!pip install keras_tuner"
      ],
      "metadata": {
        "colab": {
          "base_uri": "https://localhost:8080/"
        },
        "id": "R0a3OMz8fD_y",
        "outputId": "91680810-7649-41c7-b558-617e84327d1a"
      },
      "execution_count": 1,
      "outputs": [
        {
          "output_type": "stream",
          "name": "stdout",
          "text": [
            "Looking in indexes: https://pypi.org/simple, https://us-python.pkg.dev/colab-wheels/public/simple/\n",
            "Collecting keras_tuner\n",
            "  Downloading keras_tuner-1.3.5-py3-none-any.whl (176 kB)\n",
            "\u001b[2K     \u001b[90m━━━━━━━━━━━━━━━━━━━━━━━━━━━━━━━━━━━━━━━\u001b[0m \u001b[32m176.1/176.1 kB\u001b[0m \u001b[31m4.4 MB/s\u001b[0m eta \u001b[36m0:00:00\u001b[0m\n",
            "\u001b[?25hRequirement already satisfied: packaging in /usr/local/lib/python3.10/dist-packages (from keras_tuner) (23.1)\n",
            "Requirement already satisfied: requests in /usr/local/lib/python3.10/dist-packages (from keras_tuner) (2.27.1)\n",
            "Collecting kt-legacy (from keras_tuner)\n",
            "  Downloading kt_legacy-1.0.5-py3-none-any.whl (9.6 kB)\n",
            "Requirement already satisfied: urllib3<1.27,>=1.21.1 in /usr/local/lib/python3.10/dist-packages (from requests->keras_tuner) (1.26.15)\n",
            "Requirement already satisfied: certifi>=2017.4.17 in /usr/local/lib/python3.10/dist-packages (from requests->keras_tuner) (2022.12.7)\n",
            "Requirement already satisfied: charset-normalizer~=2.0.0 in /usr/local/lib/python3.10/dist-packages (from requests->keras_tuner) (2.0.12)\n",
            "Requirement already satisfied: idna<4,>=2.5 in /usr/local/lib/python3.10/dist-packages (from requests->keras_tuner) (3.4)\n",
            "Installing collected packages: kt-legacy, keras_tuner\n",
            "Successfully installed keras_tuner-1.3.5 kt-legacy-1.0.5\n"
          ]
        }
      ]
    },
    {
      "cell_type": "code",
      "execution_count": 2,
      "metadata": {
        "id": "V0Z3GwN2Pwfd"
      },
      "outputs": [],
      "source": [
        "# загрузка библиотек\n",
        "import os\n",
        "import gdown\n",
        "from keras.preprocessing.image import ImageDataGenerator\n",
        "from keras.models import Sequential\n",
        "from keras import layers\n",
        "import tensorflow as tf\n",
        "import keras_tuner as kt\n",
        "from pprint import pprint"
      ]
    },
    {
      "cell_type": "code",
      "source": [
        "# загрузка датасета, укажем путь к базе в Google Drive, база в виде .zip-архива\n",
        "URL = 'https://drive.google.com/uc?id=17g0sp2Xt27ONyzJ9667HroY6010_Tli_'\n",
        "gdown.download(URL)"
      ],
      "metadata": {
        "colab": {
          "base_uri": "https://localhost:8080/",
          "height": 105
        },
        "id": "5fHhGotVSbIE",
        "outputId": "ad3743c2-8025-478d-8054-37951f94e251"
      },
      "execution_count": 3,
      "outputs": [
        {
          "output_type": "stream",
          "name": "stderr",
          "text": [
            "Downloading...\n",
            "From: https://drive.google.com/uc?id=17g0sp2Xt27ONyzJ9667HroY6010_Tli_\n",
            "To: /content/materials_pictures_archive.zip\n",
            "100%|██████████| 116M/116M [00:02<00:00, 51.7MB/s]\n"
          ]
        },
        {
          "output_type": "execute_result",
          "data": {
            "text/plain": [
              "'materials_pictures_archive.zip'"
            ],
            "application/vnd.google.colaboratory.intrinsic+json": {
              "type": "string"
            }
          },
          "metadata": {},
          "execution_count": 3
        }
      ]
    },
    {
      "cell_type": "code",
      "source": [
        "!unzip -qo 'materials_pictures_archive.zip' -d /content/materials_pictures/"
      ],
      "metadata": {
        "id": "eIyb0tCWSbcn"
      },
      "execution_count": 4,
      "outputs": []
    },
    {
      "cell_type": "code",
      "source": [
        "IMAGE_PATH = '/content/materials_pictures/'\n",
        "print(os.listdir(IMAGE_PATH))"
      ],
      "metadata": {
        "id": "kwsGEReHSbfD",
        "colab": {
          "base_uri": "https://localhost:8080/"
        },
        "outputId": "867b950c-9b3c-48f1-9991-efcbf378f48f"
      },
      "execution_count": 5,
      "outputs": [
        {
          "output_type": "stream",
          "name": "stdout",
          "text": [
            "['металл', 'комбинированный', 'пластик']\n"
          ]
        }
      ]
    },
    {
      "cell_type": "code",
      "source": [
        "# IMG_HEIGHT, IMG_WIDTH = 600, 600\n",
        "IMG_HEIGHT, IMG_WIDTH = 60, 60"
      ],
      "metadata": {
        "id": "Z2MYLxhXTW2Y"
      },
      "execution_count": 6,
      "outputs": []
    },
    {
      "cell_type": "code",
      "source": [
        "# Создаем генератор для аугментации\n",
        "train_datagen = ImageDataGenerator(\n",
        "    rescale=1./255,\n",
        "    rotation_range=20,      # диапазон углов для вращения изображений\n",
        "    width_shift_range=0.2,  # диапазон, который используется для горизонтального смещения изображения\n",
        "    height_shift_range=0.2, # диапазон, который используется для вертикального смещения изображения\n",
        "    zoom_range=0.2,         # диапазон для случайного масштабирования изображения\n",
        "    fill_mode='nearest',    # стратегия заполнения появившихся пустых мест при преобразованиях\n",
        "    validation_split=0.2)"
      ],
      "metadata": {
        "id": "6oZSqao-Sbh0"
      },
      "execution_count": 7,
      "outputs": []
    },
    {
      "cell_type": "code",
      "source": [
        "# валидационную выборку только нормируем, к ней не будет применена аугментация\n",
        "validation_datagen = ImageDataGenerator(rescale=1./255, validation_split=0.2)"
      ],
      "metadata": {
        "id": "u1CfmfhNc0un"
      },
      "execution_count": 8,
      "outputs": []
    },
    {
      "cell_type": "code",
      "source": [
        "# Создаём генераторы, загружающие картинки с диска\n",
        "\n",
        "train_data = train_datagen.flow_from_directory(\n",
        "    IMAGE_PATH, # путь до вашего датасета\n",
        "    target_size=(IMG_HEIGHT, IMG_WIDTH),\n",
        "    batch_size=32,\n",
        "    class_mode='categorical',\n",
        "    subset='training')\n",
        "\n",
        "val_data = validation_datagen.flow_from_directory(\n",
        "    IMAGE_PATH, # путь до вашего датасета\n",
        "    target_size=(IMG_HEIGHT, IMG_WIDTH),\n",
        "    batch_size=32,\n",
        "    class_mode='categorical',\n",
        "    subset='validation')"
      ],
      "metadata": {
        "colab": {
          "base_uri": "https://localhost:8080/"
        },
        "id": "mfi3X9IxdUEZ",
        "outputId": "8b1b69e7-9a1a-41f2-c611-e0aecc906c9f"
      },
      "execution_count": 9,
      "outputs": [
        {
          "output_type": "stream",
          "name": "stdout",
          "text": [
            "Found 4151 images belonging to 3 classes.\n",
            "Found 1036 images belonging to 3 classes.\n"
          ]
        }
      ]
    },
    {
      "cell_type": "code",
      "source": [
        "NUM_CLASSES = 3"
      ],
      "metadata": {
        "id": "F0epcTHxT-np"
      },
      "execution_count": 10,
      "outputs": []
    },
    {
      "cell_type": "code",
      "source": [
        "# определяем архитектуру модели, которую будем подавать в KerasTuner\n",
        "def model_builder(hp):\n",
        "    model = Sequential()\n",
        "\n",
        "    # Сверточный слой\n",
        "    model.add(layers.Conv2D(32, (3, 3), activation='relu', padding='same', input_shape=(IMG_HEIGHT, IMG_WIDTH, 3)))\n",
        "    model.add(layers.MaxPooling2D((2, 2)))\n",
        "\n",
        "    # Добавляем больше сверточных слоев\n",
        "    for i in range(hp.Int('conv_layers', 1, 3)):\n",
        "        model.add(layers.Conv2D(hp.Choice(f'conv_units_{i}', [32, 64, 128]), (3, 3), activation='relu', padding='same'))\n",
        "        model.add(layers.MaxPooling2D((2, 2)))\n",
        "\n",
        "    model.add(layers.Flatten())\n",
        "\n",
        "    # Добавляем полносвязные слои\n",
        "    for i in range(hp.Int('dense_layers', 1, 2)):\n",
        "        model.add(layers.Dense(hp.Choice(f'dense_units_{i}', [64, 128, 256]), activation='relu'))\n",
        "        model.add(layers.Dropout(hp.Choice(f'dropout_{i}', [0.1, 0.2, 0.3, 0.4, 0.5])))\n",
        "\n",
        "    model.add(layers.Dense(NUM_CLASSES, activation='softmax'))\n",
        "\n",
        "    hp_learning_rate = hp.Choice('learning_rate', values = [1e-2, 1e-3, 1e-4])\n",
        "\n",
        "    model.compile(optimizer = tf.keras.optimizers.Adam(learning_rate = hp_learning_rate),\n",
        "                loss = tf.keras.losses.CategoricalCrossentropy(),\n",
        "                metrics = ['accuracy'])\n",
        "\n",
        "    return model"
      ],
      "metadata": {
        "id": "-ulzo5BSebTT"
      },
      "execution_count": 11,
      "outputs": []
    },
    {
      "cell_type": "code",
      "source": [
        "tuner = kt.Hyperband(model_builder,\n",
        "                     objective = 'val_accuracy',\n",
        "                     max_epochs = 4,\n",
        "                     directory = 'tuner_result',\n",
        "                     project_name = 'net_optics')"
      ],
      "metadata": {
        "id": "I25kTfEbe5Te"
      },
      "execution_count": 12,
      "outputs": []
    },
    {
      "cell_type": "code",
      "source": [
        "tuner.search(train_data,\n",
        "             epochs = 10,\n",
        "             validation_data = val_data)"
      ],
      "metadata": {
        "colab": {
          "base_uri": "https://localhost:8080/"
        },
        "id": "1WynpYUzfgWC",
        "outputId": "a62a0590-fa02-454d-978d-353d6ff93313"
      },
      "execution_count": 13,
      "outputs": [
        {
          "output_type": "stream",
          "name": "stdout",
          "text": [
            "Trial 10 Complete [00h 02m 03s]\n",
            "val_accuracy: 0.4536679685115814\n",
            "\n",
            "Best val_accuracy So Far: 0.5231660008430481\n",
            "Total elapsed time: 00h 13m 27s\n"
          ]
        }
      ]
    },
    {
      "cell_type": "code",
      "source": [
        "best_model = tuner.get_best_models(num_models=1)[0]"
      ],
      "metadata": {
        "id": "7XWs7KSNhvkG"
      },
      "execution_count": 14,
      "outputs": []
    },
    {
      "cell_type": "code",
      "source": [
        "best_model.summary()"
      ],
      "metadata": {
        "colab": {
          "base_uri": "https://localhost:8080/"
        },
        "id": "97_cZJO3hxXX",
        "outputId": "80aac3e8-cbc4-47bd-ef09-78b5ab796494"
      },
      "execution_count": 15,
      "outputs": [
        {
          "output_type": "stream",
          "name": "stdout",
          "text": [
            "Model: \"sequential\"\n",
            "_________________________________________________________________\n",
            " Layer (type)                Output Shape              Param #   \n",
            "=================================================================\n",
            " conv2d (Conv2D)             (None, 60, 60, 32)        896       \n",
            "                                                                 \n",
            " max_pooling2d (MaxPooling2D  (None, 30, 30, 32)       0         \n",
            " )                                                               \n",
            "                                                                 \n",
            " conv2d_1 (Conv2D)           (None, 30, 30, 128)       36992     \n",
            "                                                                 \n",
            " max_pooling2d_1 (MaxPooling  (None, 15, 15, 128)      0         \n",
            " 2D)                                                             \n",
            "                                                                 \n",
            " conv2d_2 (Conv2D)           (None, 15, 15, 32)        36896     \n",
            "                                                                 \n",
            " max_pooling2d_2 (MaxPooling  (None, 7, 7, 32)         0         \n",
            " 2D)                                                             \n",
            "                                                                 \n",
            " flatten (Flatten)           (None, 1568)              0         \n",
            "                                                                 \n",
            " dense (Dense)               (None, 64)                100416    \n",
            "                                                                 \n",
            " dropout (Dropout)           (None, 64)                0         \n",
            "                                                                 \n",
            " dense_1 (Dense)             (None, 64)                4160      \n",
            "                                                                 \n",
            " dropout_1 (Dropout)         (None, 64)                0         \n",
            "                                                                 \n",
            " dense_2 (Dense)             (None, 3)                 195       \n",
            "                                                                 \n",
            "=================================================================\n",
            "Total params: 179,555\n",
            "Trainable params: 179,555\n",
            "Non-trainable params: 0\n",
            "_________________________________________________________________\n"
          ]
        }
      ]
    },
    {
      "cell_type": "code",
      "source": [
        "best_hyperparameters = tuner.get_best_hyperparameters(num_trials=1)[0]\n",
        "pprint(best_hyperparameters.values)"
      ],
      "metadata": {
        "colab": {
          "base_uri": "https://localhost:8080/"
        },
        "id": "pndk9HaMh0EA",
        "outputId": "5d735d02-eba5-4ff0-bdf2-dd2521682043"
      },
      "execution_count": 16,
      "outputs": [
        {
          "output_type": "stream",
          "name": "stdout",
          "text": [
            "{'conv_layers': 2,\n",
            " 'conv_units_0': 128,\n",
            " 'conv_units_1': 32,\n",
            " 'conv_units_2': 128,\n",
            " 'dense_layers': 2,\n",
            " 'dense_units_0': 64,\n",
            " 'dense_units_1': 64,\n",
            " 'dropout_0': 0.3,\n",
            " 'dropout_1': 0.1,\n",
            " 'learning_rate': 0.001,\n",
            " 'tuner/bracket': 1,\n",
            " 'tuner/epochs': 4,\n",
            " 'tuner/initial_epoch': 2,\n",
            " 'tuner/round': 1,\n",
            " 'tuner/trial_id': '0000'}\n"
          ]
        }
      ]
    }
  ]
}