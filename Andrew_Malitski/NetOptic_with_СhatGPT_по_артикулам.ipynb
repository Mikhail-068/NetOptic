{
  "nbformat": 4,
  "nbformat_minor": 0,
  "metadata": {
    "colab": {
      "provenance": []
    },
    "kernelspec": {
      "name": "python3",
      "display_name": "Python 3"
    },
    "language_info": {
      "name": "python"
    }
  },
  "cells": [
    {
      "cell_type": "code",
      "source": [
        "!pip install openai"
      ],
      "metadata": {
        "id": "C-wmZc1NgWtn"
      },
      "execution_count": null,
      "outputs": []
    },
    {
      "cell_type": "code",
      "source": [
        "!pip install faiss-cpu langchain openai tiktoken"
      ],
      "metadata": {
        "id": "WfqXHj9XiGIi"
      },
      "execution_count": null,
      "outputs": []
    },
    {
      "cell_type": "code",
      "source": [
        "from langchain.embeddings.openai import OpenAIEmbeddings\n",
        "from langchain.text_splitter import CharacterTextSplitter\n",
        "from langchain.vectorstores import FAISS\n",
        "from langchain.document_loaders import TextLoader\n",
        "import os\n",
        "import getpass\n",
        "\n",
        "os.environ[\"OPENAI_API_KEY\"] = getpass.getpass(\"OpenAI API Key:\")"
      ],
      "metadata": {
        "colab": {
          "base_uri": "https://localhost:8080/"
        },
        "id": "zAAU4NMLsBO-",
        "outputId": "1c6afa89-8570-4434-b6a2-4a9b07abd783"
      },
      "execution_count": null,
      "outputs": [
        {
          "name": "stdout",
          "output_type": "stream",
          "text": [
            "OpenAI API Key:··········\n"
          ]
        }
      ]
    },
    {
      "cell_type": "markdown",
      "source": [
        "https://docs.google.com/document/d/1f6zuyqT5TmYdybnPr13GRmp_iQ4l5MYmlYNni_HpuRk/edit?usp=sharing"
      ],
      "metadata": {
        "id": "hE25YUztsQ4K"
      }
    },
    {
      "cell_type": "code",
      "source": [
        "loader = TextLoader(\"/content/Артикулы.txt\")\n",
        "\n",
        "documents = loader.load()\n",
        "text_splitter = CharacterTextSplitter(separator=\"\\n\", chunk_size=50, chunk_overlap=0)\n",
        "docs = text_splitter.split_documents(documents)\n",
        "\n"
      ],
      "metadata": {
        "id": "moR-hayesBcq"
      },
      "execution_count": null,
      "outputs": []
    },
    {
      "cell_type": "code",
      "source": [
        "# всего получилось чанков:\n",
        "len(docs)"
      ],
      "metadata": {
        "colab": {
          "base_uri": "https://localhost:8080/"
        },
        "id": "HjofNurSseMf",
        "outputId": "53570080-39f5-49b9-9d2d-b781b976ce45"
      },
      "execution_count": null,
      "outputs": [
        {
          "output_type": "execute_result",
          "data": {
            "text/plain": [
              "61"
            ]
          },
          "metadata": {},
          "execution_count": 89
        }
      ]
    },
    {
      "cell_type": "code",
      "source": [
        "# Инициализирум модель эмбеддингов\n",
        "embeddings = OpenAIEmbeddings()\n",
        "\n",
        "# Создадим индексную базу из разделенных фрагментов текста\n",
        "db = FAISS.from_documents(docs, embeddings)"
      ],
      "metadata": {
        "id": "DtFtBX-o8K6C"
      },
      "execution_count": null,
      "outputs": []
    },
    {
      "cell_type": "code",
      "source": [
        "from google.colab import drive\n",
        "drive.mount('/content/drive')\n",
        "db.save_local(\"/content/drive/My Drive/faiss_index\")"
      ],
      "metadata": {
        "colab": {
          "base_uri": "https://localhost:8080/"
        },
        "id": "_EwbcmDb1TbK",
        "outputId": "8d759da0-c043-43ba-a112-f058c8e509e4"
      },
      "execution_count": null,
      "outputs": [
        {
          "output_type": "stream",
          "name": "stdout",
          "text": [
            "Drive already mounted at /content/drive; to attempt to forcibly remount, call drive.mount(\"/content/drive\", force_remount=True).\n"
          ]
        }
      ]
    },
    {
      "cell_type": "code",
      "source": [
        "import re\n",
        "import requests\n",
        "import openai\n",
        "from langchain.docstore.document import Document"
      ],
      "metadata": {
        "id": "fdiDKOJG7IaL"
      },
      "execution_count": null,
      "outputs": []
    },
    {
      "cell_type": "code",
      "source": [
        "def load_document_text(url: str) -> str:\n",
        "    # функция для загрузки документа по ссылке из гугл док\n",
        "    match_ = re.search('/document/d/([a-zA-Z0-9-_]+)', url)\n",
        "    if match_ is None:\n",
        "        raise ValueError('Invalid Google Docs URL')\n",
        "    doc_id = match_.group(1)\n",
        "    response = requests.get(f'https://docs.google.com/document/d/{doc_id}/export?format=txt')\n",
        "    response.raise_for_status()\n",
        "    text = response.text\n",
        "\n",
        "    return text\n",
        "\n",
        "def answer_index(system, topic, search_index, temp=0, verbose=0):\n",
        "\n",
        "    # Поиск релевантных отрезков из базы знаний\n",
        "    docs = search_index.similarity_search(topic, k=10)\n",
        "    if verbose: print('\\n ===========================================: ')\n",
        "    message_content = re.sub(r'\\n{2}', ' ', '\\n '.join([f'\\nОтрывок документа №{i+1}\\n=====================' + doc.page_content + '\\n' for i, doc in enumerate(docs)]))\n",
        "    if verbose: print('message_content :\\n ======================================== \\n', message_content)\n",
        "\n",
        "    messages = [\n",
        "        {\"role\": \"system\", \"content\": system},\n",
        "        {\"role\": \"user\", \"content\": f\"Документ с информацией для ответа клиенту: {message_content}\\n\\nВопрос клиента: \\n{topic}\"}\n",
        "    ]\n",
        "\n",
        "    if verbose: print('\\n ===========================================: ')\n",
        "\n",
        "    completion = openai.ChatCompletion.create(\n",
        "        model=\"gpt-3.5-turbo\",\n",
        "        messages=messages,\n",
        "        temperature=temp\n",
        "    )\n",
        "    if verbose: print('\\n ===========================================: ')\n",
        "    answer = completion.choices[0].message.content\n",
        "    return answer  # возвращает ответ\n"
      ],
      "metadata": {
        "id": "-_G2p4ep5H1I"
      },
      "execution_count": null,
      "outputs": []
    },
    {
      "cell_type": "code",
      "source": [
        "# Инструкция для GPT, которая будет подаваться в system\n",
        "system = 'в ответе никогда не указывай номер отрывка документа, найди в базе один самый похожий артикула по цифрам и буквам и их порядку с тем что введет тебе пользователь'"
      ],
      "metadata": {
        "id": "VBEg4dRs5H37"
      },
      "execution_count": null,
      "outputs": []
    },
    {
      "cell_type": "code",
      "source": [
        "# в таблице RB 7091 8142 53*19 140\n",
        "# проверяем RB 7891 0142 53*19 140\n",
        "topic= \"RB 7891 0142 53*19 130\""
      ],
      "metadata": {
        "id": "zSB6TIKR5H9v"
      },
      "execution_count": null,
      "outputs": []
    },
    {
      "cell_type": "code",
      "source": [
        "ans=answer_index(system, topic, db, temp=0.1, verbose=0)\n",
        "ans"
      ],
      "metadata": {
        "colab": {
          "base_uri": "https://localhost:8080/",
          "height": 35
        },
        "id": "G4idiAzy_hOk",
        "outputId": "1ddc84e1-b074-4927-b837-2de630eb18e2"
      },
      "execution_count": null,
      "outputs": [
        {
          "output_type": "execute_result",
          "data": {
            "text/plain": [
              "'Самый похожий артикул в базе данных на ваш запрос \"RB 7891 0142 53*19 130\" - это отрывок документа №3: \"RB 7091 8142 53*19 140\".'"
            ],
            "application/vnd.google.colaboratory.intrinsic+json": {
              "type": "string"
            }
          },
          "metadata": {},
          "execution_count": 101
        }
      ]
    },
    {
      "cell_type": "code",
      "source": [
        "# в таблице LN50025 C3 50*19 143\n",
        "# проверяем LN68025 53 50o19 143\n",
        "topic= \"LN68025 C3 50o19 143\"\n",
        "ans=answer_index(system, topic, db, temp=0.5, verbose=0)\n",
        "ans"
      ],
      "metadata": {
        "colab": {
          "base_uri": "https://localhost:8080/",
          "height": 35
        },
        "id": "KI4zXxrlhasc",
        "outputId": "2064722a-548d-4989-f4fb-ab0fd784dbce"
      },
      "execution_count": null,
      "outputs": [
        {
          "output_type": "execute_result",
          "data": {
            "text/plain": [
              "'Похожий артикул из базы данных: LN50025 C3 50*19 143'"
            ],
            "application/vnd.google.colaboratory.intrinsic+json": {
              "type": "string"
            }
          },
          "metadata": {},
          "execution_count": 105
        }
      ]
    },
    {
      "cell_type": "code",
      "source": [
        "# в таблице GU 1855 BRN 54*17 140\n",
        "# проверяем 60 7855 BRN 54о17 130\n",
        "topic= \"60 7855 BRN 54о17 130\"\n",
        "ans=answer_index(system, topic, db, temp=0.5, verbose=0)\n",
        "ans"
      ],
      "metadata": {
        "colab": {
          "base_uri": "https://localhost:8080/",
          "height": 35
        },
        "id": "IUD3H0DMh9Y3",
        "outputId": "b804b731-59a7-49c4-a4cd-d7da9fc13b2c"
      },
      "execution_count": null,
      "outputs": [
        {
          "output_type": "execute_result",
          "data": {
            "text/plain": [
              "'Самый похожий артикул на введенный клиентом запрос \"60 7855 BRN 54о17 130\" это \"GU 1855 BRN 54*17 140\" из отрывка документа №1.'"
            ],
            "application/vnd.google.colaboratory.intrinsic+json": {
              "type": "string"
            }
          },
          "metadata": {},
          "execution_count": 109
        }
      ]
    },
    {
      "cell_type": "code",
      "source": [
        "# в таблице VYF120 C02 55*18 140\n",
        "# проверяем YKL120 CoG 54о17 130\n",
        "topic= \"YKL120 CoG 54о17 130\"\n",
        "ans=answer_index(system, topic, db, temp=0.5, verbose=0)\n",
        "ans"
      ],
      "metadata": {
        "colab": {
          "base_uri": "https://localhost:8080/",
          "height": 35
        },
        "id": "DdiuD-78oAge",
        "outputId": "78e5ac9c-cd8b-4a0f-efe4-9e157df3e050"
      },
      "execution_count": null,
      "outputs": [
        {
          "output_type": "execute_result",
          "data": {
            "text/plain": [
              "'Самый похожий артикул на введенный клиентом запрос \"YKL120 CoG 54о17 130\" - это \"VYF120 C02 55*18 140\" из отрывка документа №1.'"
            ],
            "application/vnd.google.colaboratory.intrinsic+json": {
              "type": "string"
            }
          },
          "metadata": {},
          "execution_count": 70
        }
      ]
    }
  ]
}