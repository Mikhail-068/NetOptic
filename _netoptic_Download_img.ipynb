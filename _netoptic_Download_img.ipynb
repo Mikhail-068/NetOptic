{
  "nbformat": 4,
  "nbformat_minor": 0,
  "metadata": {
    "colab": {
      "provenance": [],
      "authorship_tag": "ABX9TyPBJsLM9oh22XUiF3lcsJJp",
      "include_colab_link": true
    },
    "kernelspec": {
      "name": "python3",
      "display_name": "Python 3"
    },
    "language_info": {
      "name": "python"
    }
  },
  "cells": [
    {
      "cell_type": "markdown",
      "metadata": {
        "id": "view-in-github",
        "colab_type": "text"
      },
      "source": [
        "<a href=\"https://colab.research.google.com/github/Mikhail-068/NetOptic/blob/master/_netoptic_Download_img.ipynb\" target=\"_parent\"><img src=\"https://colab.research.google.com/assets/colab-badge.svg\" alt=\"Open In Colab\"/></a>"
      ]
    },
    {
      "cell_type": "markdown",
      "source": [
        "## BS"
      ],
      "metadata": {
        "id": "Ur-UKWk_2VLg"
      }
    },
    {
      "cell_type": "code",
      "source": [
        "from bs4 import BeautifulSoup\n",
        "import requests\n",
        "import pandas as pd"
      ],
      "metadata": {
        "id": "PN1_CKim2WXJ"
      },
      "execution_count": null,
      "outputs": []
    },
    {
      "cell_type": "code",
      "source": [
        "response = requests.get('https://www.netoptik.ru/yandexmarket.yml')"
      ],
      "metadata": {
        "id": "fIF_fA1N2jEF"
      },
      "execution_count": null,
      "outputs": []
    },
    {
      "cell_type": "code",
      "source": [
        "# парсинг кода страницы\n",
        "bs = BeautifulSoup(response.text, \"xml\")\n",
        "of = bs.findAll('offer')\n",
        "of[80].find('param name=\"Материал ')"
      ],
      "metadata": {
        "id": "M9DBaOGj2-k_"
      },
      "execution_count": null,
      "outputs": []
    },
    {
      "cell_type": "code",
      "source": [
        "of[80]"
      ],
      "metadata": {
        "colab": {
          "base_uri": "https://localhost:8080/"
        },
        "id": "V0es9qh2hoyG",
        "outputId": "c431a698-eff6-4645-dc99-32ae4ea92e94"
      },
      "execution_count": null,
      "outputs": [
        {
          "output_type": "execute_result",
          "data": {
            "text/plain": [
              "<offer id=\"14661\">\n",
              "<categoryId>158</categoryId>\n",
              "<name>Солнцезащитные очки Giorgio Armani, GA 960/S BMX</name>\n",
              "<url>https://www.netoptik.ru/sunglasses/sunglasses-woman/solncezaschitnie-ochki-giorgio-armani-ga-960-s-bmx</url>\n",
              "<price>9500</price>\n",
              "<currencyId>RUB</currencyId>\n",
              "<vendor>GIORGIO ARMANI</vendor>\n",
              "<model>Солнцезащитные очки Giorgio Armani, GA 960/S BMX</model>\n",
              "<picture>https://www.netoptik.ru/image/cache/data/cz_opravi/GIORGIO%20ARMANI/giorgioarmaniga960bmxs213-600x600.jpg</picture>\n",
              "<picture>https://www.netoptik.ru/image/cache/data/cz_opravi/GIORGIO%20ARMANI/giorgioarmaniga960bmxs231-600x600.jpg</picture>\n",
              "<picture>https://www.netoptik.ru/image/cache/data/cz_opravi/GIORGIO%20ARMANI/giorgioarmaniga960bmxs222-600x600.jpg</picture>\n",
              "<param name=\"Категория\">Женские очки</param>\n",
              "<param name=\"Ширина оправы (мм)\">140</param>\n",
              "<param name=\"Ширина линзы (мм)\">56</param>\n",
              "<param name=\"Высота линзы (мм)\">45</param>\n",
              "<param name=\"Мост (мм)\">17</param>\n",
              "<param name=\"Длина заушника (мм)\">140</param>\n",
              "<param name=\"Цвет линз\">Коричневый</param>\n",
              "<param name=\"Тонировка \">градиент</param>\n",
              "<param name=\"Материал \">пластик</param>\n",
              "<param name=\"Стиль\">Унисекс</param>\n",
              "<param name=\"Строение оправы\">Ободковая</param>\n",
              "<param name=\"Цвет оправы\">Черепаховый</param>\n",
              "<param name=\"Цвет заушника оправы\">черепаховый</param>\n",
              "<param name=\"Форма очков\">Квадратные</param>\n",
              "<quantity>100</quantity>\n",
              "</offer>"
            ]
          },
          "metadata": {},
          "execution_count": 5
        }
      ]
    },
    {
      "cell_type": "code",
      "source": [
        "lst_tags =  of[80].findAll('picture')\n",
        "lst_link = [i.text for i in lst_tags]\n",
        "lst_link"
      ],
      "metadata": {
        "colab": {
          "base_uri": "https://localhost:8080/"
        },
        "id": "l4VbM1e-kaFE",
        "outputId": "17f885a9-2bbb-4e95-abfb-152ffe4e229a"
      },
      "execution_count": null,
      "outputs": [
        {
          "output_type": "execute_result",
          "data": {
            "text/plain": [
              "['https://www.netoptik.ru/image/cache/data/cz_opravi/GIORGIO%20ARMANI/giorgioarmaniga960bmxs213-600x600.jpg',\n",
              " 'https://www.netoptik.ru/image/cache/data/cz_opravi/GIORGIO%20ARMANI/giorgioarmaniga960bmxs231-600x600.jpg',\n",
              " 'https://www.netoptik.ru/image/cache/data/cz_opravi/GIORGIO%20ARMANI/giorgioarmaniga960bmxs222-600x600.jpg']"
            ]
          },
          "metadata": {},
          "execution_count": 20
        }
      ]
    },
    {
      "cell_type": "code",
      "source": [
        "for i, image_url in enumerate(lst_link):\n",
        "    filename = f\"image_{i}.jpg\"\n",
        "    download_image(image_url, filename)"
      ],
      "metadata": {
        "colab": {
          "base_uri": "https://localhost:8080/"
        },
        "id": "Lk9OmBwwkFda",
        "outputId": "6fe544cd-285a-461e-f43b-b922b8885d6b"
      },
      "execution_count": null,
      "outputs": [
        {
          "output_type": "stream",
          "name": "stdout",
          "text": [
            "Изображение загружено: image_0.jpg\n",
            "Изображение загружено: image_1.jpg\n",
            "Изображение загружено: image_2.jpg\n"
          ]
        }
      ]
    }
  ]
}